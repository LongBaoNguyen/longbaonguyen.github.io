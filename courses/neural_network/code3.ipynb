{
 "cells": [
  {
   "cell_type": "markdown",
   "metadata": {},
   "source": [
    "## Lecture 3: Formalizing the problem\n",
    "\n",
    "### by Long Nguyen\n",
    "\n",
    "This notebook is supplemental to Lecture 3 of the series \"Image Recognition with Neural Networks\"."
   ]
  },
  {
   "cell_type": "code",
   "execution_count": 6,
   "metadata": {},
   "outputs": [],
   "source": [
    "from mnist_loader import load_data_wrapper\n",
    "import numpy as np"
   ]
  },
  {
   "cell_type": "code",
   "execution_count": 7,
   "metadata": {},
   "outputs": [],
   "source": [
    "training_data, validation_data, test_data = load_data_wrapper()"
   ]
  },
  {
   "cell_type": "markdown",
   "metadata": {},
   "source": [
    "### Vectorization"
   ]
  },
  {
   "cell_type": "markdown",
   "metadata": {},
   "source": [
    "In the lecture, we discussed **vectorization**. Suppose we have $m$ images:\n",
    "\n",
    "$$\\{(x^{(1)},y^{(1)}),(x^{(1)},y^{(1)}),\\ldots,(x^{(m)},y^{(m)})\\}$$\n",
    "\n",
    "where $x^{(i)}\\in\\mathbb{R}^{784}$ are the images and $y^{(i)}\\in\\mathbb{R}^{10}$ are their one-hot encoding labels. \n",
    "\n",
    "We form $X$ by stacking horizontally the vectors $x^{(i)}$ and form $Y$ by stacking horizontally the vectors $y^{(i)}$.\n",
    "\n",
    "If `X` is a list of $n$ `(m,1)` 2D numpy arrays, then the function `np.hstack(X)` will produce a `(m,n)` numpy array. \n"
   ]
  },
  {
   "cell_type": "code",
   "execution_count": 8,
   "metadata": {},
   "outputs": [],
   "source": [
    "import numpy as np"
   ]
  },
  {
   "cell_type": "code",
   "execution_count": 10,
   "metadata": {
    "scrolled": true
   },
   "outputs": [
    {
     "name": "stdout",
     "output_type": "stream",
     "text": [
      "[[1]\n",
      " [2]\n",
      " [3]]\n"
     ]
    }
   ],
   "source": [
    "# create two small numpy (3,1) arrays.\n",
    "x1 = np.array([[1],[2],[3]])\n",
    "x2 = np.array([[4],[5],[6]])\n",
    "print(x1)"
   ]
  },
  {
   "cell_type": "code",
   "execution_count": 12,
   "metadata": {},
   "outputs": [
    {
     "name": "stdout",
     "output_type": "stream",
     "text": [
      "[[1 4]\n",
      " [2 5]\n",
      " [3 6]]\n"
     ]
    }
   ],
   "source": [
    "# stack x1 and x2 horizontally in X\n",
    "X = [x1, x2]\n",
    "X = np.hstack(X)\n",
    "print(X)\n"
   ]
  },
  {
   "cell_type": "markdown",
   "metadata": {},
   "source": [
    "#### Write the function `vectorize_mini_batch` below which accepts a minibatch of `(image,label)` tuples and calls `np.hstack` to return a tuple `X,Y` where `X` contains all of the images and `Y` contains all of the labels stacked horizontally. \n",
    "\n",
    "#### For example `X,Y = vectorize_mini_batch(training_data[0:20],20)` should return `X` of shape `(784,20)` and `Y` of shape `(10,20)`. \n",
    "\n",
    "Hint: You can create two empty lists and use the function append() to insert the images and labels. Or you can use list comprehensions. "
   ]
  },
  {
   "cell_type": "code",
   "execution_count": 13,
   "metadata": {},
   "outputs": [],
   "source": [
    "def vectorize_mini_batch(mini_batch):\n",
    "    \"\"\"Given a minibatch of (image,label) tuples \n",
    "    return the tuple X,Y where X contains all of the images and Y contains\n",
    "    all of the labels stacked horizontally \"\"\"\n",
    "    mini_batch_x = []\n",
    "    mini_batch_y = []\n",
    "    for i in range(0, len(mini_batch)):\n",
    "        mini_batch_x.append(mini_batch[i][0])\n",
    "        mini_batch_y.append(mini_batch[i][1])\n",
    "    X = np.hstack(mini_batch_x)\n",
    "    Y = np.hstack(mini_batch_y)\n",
    "    return X, Y"
   ]
  },
  {
   "cell_type": "code",
   "execution_count": 15,
   "metadata": {},
   "outputs": [
    {
     "name": "stdout",
     "output_type": "stream",
     "text": [
      "(784, 20)\n",
      "(10, 20)\n"
     ]
    }
   ],
   "source": [
    "X,Y = vectorize_mini_batch(training_data[0:20])\n",
    "print(X.shape)\n",
    "print(Y.shape)"
   ]
  },
  {
   "cell_type": "markdown",
   "metadata": {},
   "source": [
    "#### The sigmoid function is defined as $$\\sigma(x)=\\frac{1}{1+e^{-x}}.$$ Implement the sigmoid function. Hint: Use np.exp() for the exponential function. "
   ]
  },
  {
   "cell_type": "code",
   "execution_count": 16,
   "metadata": {},
   "outputs": [],
   "source": [
    "def sigmoid(x):\n",
    "    \"\"\"Returns the output of the sigmoid or logistic function.\"\"\"\n",
    "    return 1/(1+np.exp(-x))"
   ]
  },
  {
   "cell_type": "markdown",
   "metadata": {},
   "source": [
    "#### Write the vectorized version of the score function or model f below. Here, `X` is the matrix of images stacked horizontally. \n",
    "\n",
    "#### Thus if, \n",
    "$$X=\\left[ \\begin{array}{rrr}\n",
    "x^{(1)} & x^{(2)} & \\ldots & x^{(m)} \n",
    "\\end{array} \\right]$$\n",
    "#### is an (784,m) array then \n",
    "$$f(X)=\\left[ \\begin{array}{rrr}\n",
    "f(x^{(1)}) & f(x^{(2)}) & \\ldots & f(x^{(m)}) \n",
    "\\end{array} \\right]$$\n",
    "#### is an (10,m) array."
   ]
  },
  {
   "cell_type": "code",
   "execution_count": 2,
   "metadata": {},
   "outputs": [],
   "source": [
    "def f(X, W1, W2, B1, B2):\n",
    "    \"\"\"Vectorized version. \n",
    "    Return the output of the network if ``X`` is the input consists\n",
    "    of a collection of images. \"\"\"\n",
    "    Z1 = np.dot(W1,X) + B1 # broadcasting! see slides/video for an example.\n",
    "    A1 = sigmoid(Z1)\n",
    "    Z2 = np.dot(W2,A1) + B2 # broadcasting! see slides/video for an example.\n",
    "    A2 = sigmoid(Z2)\n",
    "    return A2"
   ]
  },
  {
   "cell_type": "markdown",
   "metadata": {},
   "source": [
    "#### Write the vectorized version of the predict function. "
   ]
  },
  {
   "cell_type": "code",
   "execution_count": 18,
   "metadata": {},
   "outputs": [],
   "source": [
    "def predict(images, W1, W2, B1, B2):\n",
    "    \"\"\"Vectorized version. \n",
    "    The parameter images is a list of (image, label) tuples. \n",
    "    Call vectorize_mini_batch and the vectorized version of the model f\n",
    "    to predict the labels of the images. \n",
    "    Hint: Use np.argmax using an axis. \n",
    "    \"\"\"\n",
    "    X,Y = vectorize_mini_batch(images)\n",
    "    A = f(X,W1,W2,B1,B2)\n",
    "    predictions = np.argmax(A, axis = 0)\n",
    "    predictions = list(predictions)\n",
    "    return predictions\n",
    "    \n",
    "    "
   ]
  },
  {
   "cell_type": "code",
   "execution_count": 19,
   "metadata": {},
   "outputs": [],
   "source": [
    "with open(\"parameters.npy\", mode=\"rb\") as r:\n",
    "    parameters = np.load(r)\n",
    "    W1, B1, W2, B2 = parameters"
   ]
  },
  {
   "cell_type": "markdown",
   "metadata": {},
   "source": [
    "#### Use the predict function above to predict the first `20` images from the training set. "
   ]
  },
  {
   "cell_type": "code",
   "execution_count": 20,
   "metadata": {},
   "outputs": [
    {
     "data": {
      "text/plain": [
       "[5, 0, 4, 1, 9, 2, 1, 3, 1, 4, 3, 5, 3, 6, 1, 7, 2, 8, 6, 9]"
      ]
     },
     "execution_count": 20,
     "metadata": {},
     "output_type": "execute_result"
    }
   ],
   "source": [
    "predict(training_data[0:20],W1,W2,B1,B2)"
   ]
  },
  {
   "cell_type": "code",
   "execution_count": null,
   "metadata": {},
   "outputs": [],
   "source": []
  }
 ],
 "metadata": {
  "kernelspec": {
   "display_name": "Python 3",
   "language": "python",
   "name": "python3"
  },
  "language_info": {
   "codemirror_mode": {
    "name": "ipython",
    "version": 3
   },
   "file_extension": ".py",
   "mimetype": "text/x-python",
   "name": "python",
   "nbconvert_exporter": "python",
   "pygments_lexer": "ipython3",
   "version": "3.6.4"
  }
 },
 "nbformat": 4,
 "nbformat_minor": 2
}
