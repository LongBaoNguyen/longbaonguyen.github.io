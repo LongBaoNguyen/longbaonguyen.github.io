{
 "cells": [
  {
   "cell_type": "markdown",
   "metadata": {},
   "source": [
    "## Lecture 2: Functions and Their Computational Graphs\n",
    "\n",
    "### by Long Nguyen\n",
    "\n",
    "This notebook is supplemental to Lecture 1 of the series \"Introduction to Neural Networks\"."
   ]
  },
  {
   "cell_type": "markdown",
   "metadata": {},
   "source": [
    "$$f(\\vec{x})=(\\sigma\\circ f_2\\circ\\sigma\\circ f_1)(\\vec{x})=\\sigma(W_2\\sigma(W_1\\vec{x}+\\vec{b}_1)+\\vec{b}_2)$$"
   ]
  },
  {
   "cell_type": "markdown",
   "metadata": {},
   "source": [
    "$$f_2(\\vec{x})=W_2\\vec{x}+\\vec{b}_2$$\n",
    "\n",
    "$$\\vec{u},\\vec{v}\\in\\mathbb{R}^n$$\n",
    "$||\\vec{u}-\\vec{v}||=\\sqrt{(u_1-v_1)^2+(u_2-v_2)^2+\\cdots+(u_n-v_n)^2}$"
   ]
  },
  {
   "cell_type": "code",
   "execution_count": null,
   "metadata": {
    "collapsed": true
   },
   "outputs": [],
   "source": []
  }
 ],
 "metadata": {
  "kernelspec": {
   "display_name": "Python 3",
   "language": "python",
   "name": "python3"
  },
  "language_info": {
   "codemirror_mode": {
    "name": "ipython",
    "version": 3
   },
   "file_extension": ".py",
   "mimetype": "text/x-python",
   "name": "python",
   "nbconvert_exporter": "python",
   "pygments_lexer": "ipython3",
   "version": "3.6.3"
  }
 },
 "nbformat": 4,
 "nbformat_minor": 2
}
