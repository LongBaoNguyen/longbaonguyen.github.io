{
 "cells": [
  {
   "cell_type": "markdown",
   "metadata": {},
   "source": [
    "## Hour of Code: Artificial Intelligence\n",
    "\n",
    "\n"
   ]
  },
  {
   "cell_type": "markdown",
   "metadata": {},
   "source": [
    "### Note: This is a jupyter notebook. You can run every code cell by pressing Shift + Enter. You can edit any text cell(markdown cell) by double clicking on it. This cell for example is a text cell. "
   ]
  },
  {
   "cell_type": "markdown",
   "metadata": {},
   "source": [
    "### The MNIST Dataset\n",
    "#### The MNIST dataset consists of 70,000 grayscale, 28 x 28 images. An 28 x 28 grayscale image is a 2D matrix consisting of 28 rows and 28 columns where each entry of the matrix is a number between 0(white) and 1(black). A matrix can be represented in Python using a Numpy array. "
   ]
  },
  {
   "cell_type": "markdown",
   "metadata": {},
   "source": [
    "#### Press Shift-Enter to run the cell below to load the images and import the required libraries. "
   ]
  },
  {
   "cell_type": "code",
   "execution_count": 35,
   "metadata": {},
   "outputs": [],
   "source": [
    "# press Shift-Enter to run this cell!\n",
    "from mnist_loader import load_data_wrapper\n",
    "import numpy as np\n",
    "import matplotlib.pyplot as plt\n",
    "training_data, validation_data, test_data = load_data_wrapper()"
   ]
  },
  {
   "cell_type": "markdown",
   "metadata": {},
   "source": [
    "#### The variables training_data, validation_data and test_data above are each a list of (image, label) tuples where image and label are numpy arrays. \n",
    "\n",
    "#### We will only use the training data set for this lab. How many images are in training_data? Answer: training data is a list of 50000 (image, label) tuples. \n"
   ]
  },
  {
   "cell_type": "code",
   "execution_count": 36,
   "metadata": {},
   "outputs": [
    {
     "name": "stdout",
     "output_type": "stream",
     "text": [
      "50000\n"
     ]
    }
   ],
   "source": [
    "print(len(training_data))"
   ]
  },
  {
   "cell_type": "markdown",
   "metadata": {},
   "source": [
    "#### Unpack the first image into two variables img1, lb1. Use the shape attribute of a Numpy array to see the dimension of an array. What is the shape of each image(img1.shape)? What is the shape of each label? "
   ]
  },
  {
   "cell_type": "code",
   "execution_count": 37,
   "metadata": {},
   "outputs": [],
   "source": [
    "img1, lb1 = training_data[0]"
   ]
  },
  {
   "cell_type": "code",
   "execution_count": 38,
   "metadata": {},
   "outputs": [
    {
     "name": "stdout",
     "output_type": "stream",
     "text": [
      "(784, 1)\n",
      "(10, 1)\n"
     ]
    }
   ],
   "source": [
    "print(img1.shape)\n",
    "print(lb1.shape)"
   ]
  },
  {
   "cell_type": "code",
   "execution_count": 3,
   "metadata": {
    "scrolled": true
   },
   "outputs": [
    {
     "name": "stdout",
     "output_type": "stream",
     "text": [
      "(784, 1)\n",
      "(10, 1)\n"
     ]
    }
   ],
   "source": [
    "img1, lb1 = training_data[0]\n",
    "print(img1.shape)\n",
    "print(lb1.shape)"
   ]
  },
  {
   "cell_type": "markdown",
   "metadata": {},
   "source": [
    "#### An image is a 2D numpy arrays of shape (784,1). The shape (784, 1) represents a 2D matrix with 784 rows and 1 column. It is a flattened version of a 28 x 28 image. Each entry of the matrix is a number between 0(white) and 1(black). We can reshape it and print out its values. Try:\n",
    "\n",
    "```python\n",
    "print(img1.reshape(28, 28))\n",
    "```"
   ]
  },
  {
   "cell_type": "code",
   "execution_count": 39,
   "metadata": {},
   "outputs": [
    {
     "name": "stdout",
     "output_type": "stream",
     "text": [
      "[[0.         0.         0.         0.         0.         0.\n",
      "  0.         0.         0.         0.         0.         0.\n",
      "  0.         0.         0.         0.         0.         0.\n",
      "  0.         0.         0.         0.         0.         0.\n",
      "  0.         0.         0.         0.        ]\n",
      " [0.         0.         0.         0.         0.         0.\n",
      "  0.         0.         0.         0.         0.         0.\n",
      "  0.         0.         0.         0.         0.         0.\n",
      "  0.         0.         0.         0.         0.         0.\n",
      "  0.         0.         0.         0.        ]\n",
      " [0.         0.         0.         0.         0.         0.\n",
      "  0.         0.         0.         0.         0.         0.\n",
      "  0.         0.         0.         0.         0.         0.\n",
      "  0.         0.         0.         0.         0.         0.\n",
      "  0.         0.         0.         0.        ]\n",
      " [0.         0.         0.         0.         0.         0.\n",
      "  0.         0.         0.         0.         0.         0.\n",
      "  0.         0.         0.         0.         0.         0.\n",
      "  0.         0.         0.         0.         0.         0.\n",
      "  0.         0.         0.         0.        ]\n",
      " [0.         0.         0.         0.         0.         0.\n",
      "  0.         0.         0.         0.         0.         0.\n",
      "  0.         0.         0.         0.         0.         0.\n",
      "  0.         0.         0.         0.         0.         0.\n",
      "  0.         0.         0.         0.        ]\n",
      " [0.         0.         0.         0.         0.         0.\n",
      "  0.         0.         0.         0.         0.         0.\n",
      "  0.01171875 0.0703125  0.0703125  0.0703125  0.4921875  0.53125\n",
      "  0.68359375 0.1015625  0.6484375  0.99609375 0.96484375 0.49609375\n",
      "  0.         0.         0.         0.        ]\n",
      " [0.         0.         0.         0.         0.         0.\n",
      "  0.         0.         0.1171875  0.140625   0.3671875  0.6015625\n",
      "  0.6640625  0.98828125 0.98828125 0.98828125 0.98828125 0.98828125\n",
      "  0.87890625 0.671875   0.98828125 0.9453125  0.76171875 0.25\n",
      "  0.         0.         0.         0.        ]\n",
      " [0.         0.         0.         0.         0.         0.\n",
      "  0.         0.19140625 0.9296875  0.98828125 0.98828125 0.98828125\n",
      "  0.98828125 0.98828125 0.98828125 0.98828125 0.98828125 0.98046875\n",
      "  0.36328125 0.3203125  0.3203125  0.21875    0.15234375 0.\n",
      "  0.         0.         0.         0.        ]\n",
      " [0.         0.         0.         0.         0.         0.\n",
      "  0.         0.0703125  0.85546875 0.98828125 0.98828125 0.98828125\n",
      "  0.98828125 0.98828125 0.7734375  0.7109375  0.96484375 0.94140625\n",
      "  0.         0.         0.         0.         0.         0.\n",
      "  0.         0.         0.         0.        ]\n",
      " [0.         0.         0.         0.         0.         0.\n",
      "  0.         0.         0.3125     0.609375   0.41796875 0.98828125\n",
      "  0.98828125 0.80078125 0.04296875 0.         0.16796875 0.6015625\n",
      "  0.         0.         0.         0.         0.         0.\n",
      "  0.         0.         0.         0.        ]\n",
      " [0.         0.         0.         0.         0.         0.\n",
      "  0.         0.         0.         0.0546875  0.00390625 0.6015625\n",
      "  0.98828125 0.3515625  0.         0.         0.         0.\n",
      "  0.         0.         0.         0.         0.         0.\n",
      "  0.         0.         0.         0.        ]\n",
      " [0.         0.         0.         0.         0.         0.\n",
      "  0.         0.         0.         0.         0.         0.54296875\n",
      "  0.98828125 0.7421875  0.0078125  0.         0.         0.\n",
      "  0.         0.         0.         0.         0.         0.\n",
      "  0.         0.         0.         0.        ]\n",
      " [0.         0.         0.         0.         0.         0.\n",
      "  0.         0.         0.         0.         0.         0.04296875\n",
      "  0.7421875  0.98828125 0.2734375  0.         0.         0.\n",
      "  0.         0.         0.         0.         0.         0.\n",
      "  0.         0.         0.         0.        ]\n",
      " [0.         0.         0.         0.         0.         0.\n",
      "  0.         0.         0.         0.         0.         0.\n",
      "  0.13671875 0.94140625 0.87890625 0.625      0.421875   0.00390625\n",
      "  0.         0.         0.         0.         0.         0.\n",
      "  0.         0.         0.         0.        ]\n",
      " [0.         0.         0.         0.         0.         0.\n",
      "  0.         0.         0.         0.         0.         0.\n",
      "  0.         0.31640625 0.9375     0.98828125 0.98828125 0.46484375\n",
      "  0.09765625 0.         0.         0.         0.         0.\n",
      "  0.         0.         0.         0.        ]\n",
      " [0.         0.         0.         0.         0.         0.\n",
      "  0.         0.         0.         0.         0.         0.\n",
      "  0.         0.         0.17578125 0.7265625  0.98828125 0.98828125\n",
      "  0.5859375  0.10546875 0.         0.         0.         0.\n",
      "  0.         0.         0.         0.        ]\n",
      " [0.         0.         0.         0.         0.         0.\n",
      "  0.         0.         0.         0.         0.         0.\n",
      "  0.         0.         0.         0.0625     0.36328125 0.984375\n",
      "  0.98828125 0.73046875 0.         0.         0.         0.\n",
      "  0.         0.         0.         0.        ]\n",
      " [0.         0.         0.         0.         0.         0.\n",
      "  0.         0.         0.         0.         0.         0.\n",
      "  0.         0.         0.         0.         0.         0.97265625\n",
      "  0.98828125 0.97265625 0.25       0.         0.         0.\n",
      "  0.         0.         0.         0.        ]\n",
      " [0.         0.         0.         0.         0.         0.\n",
      "  0.         0.         0.         0.         0.         0.\n",
      "  0.         0.         0.1796875  0.5078125  0.71484375 0.98828125\n",
      "  0.98828125 0.80859375 0.0078125  0.         0.         0.\n",
      "  0.         0.         0.         0.        ]\n",
      " [0.         0.         0.         0.         0.         0.\n",
      "  0.         0.         0.         0.         0.         0.\n",
      "  0.15234375 0.578125   0.89453125 0.98828125 0.98828125 0.98828125\n",
      "  0.9765625  0.7109375  0.         0.         0.         0.\n",
      "  0.         0.         0.         0.        ]\n",
      " [0.         0.         0.         0.         0.         0.\n",
      "  0.         0.         0.         0.         0.09375    0.4453125\n",
      "  0.86328125 0.98828125 0.98828125 0.98828125 0.98828125 0.78515625\n",
      "  0.3046875  0.         0.         0.         0.         0.\n",
      "  0.         0.         0.         0.        ]\n",
      " [0.         0.         0.         0.         0.         0.\n",
      "  0.         0.         0.08984375 0.2578125  0.83203125 0.98828125\n",
      "  0.98828125 0.98828125 0.98828125 0.7734375  0.31640625 0.0078125\n",
      "  0.         0.         0.         0.         0.         0.\n",
      "  0.         0.         0.         0.        ]\n",
      " [0.         0.         0.         0.         0.         0.\n",
      "  0.0703125  0.66796875 0.85546875 0.98828125 0.98828125 0.98828125\n",
      "  0.98828125 0.76171875 0.3125     0.03515625 0.         0.\n",
      "  0.         0.         0.         0.         0.         0.\n",
      "  0.         0.         0.         0.        ]\n",
      " [0.         0.         0.         0.         0.21484375 0.671875\n",
      "  0.8828125  0.98828125 0.98828125 0.98828125 0.98828125 0.953125\n",
      "  0.51953125 0.04296875 0.         0.         0.         0.\n",
      "  0.         0.         0.         0.         0.         0.\n",
      "  0.         0.         0.         0.        ]\n",
      " [0.         0.         0.         0.         0.53125    0.98828125\n",
      "  0.98828125 0.98828125 0.828125   0.52734375 0.515625   0.0625\n",
      "  0.         0.         0.         0.         0.         0.\n",
      "  0.         0.         0.         0.         0.         0.\n",
      "  0.         0.         0.         0.        ]\n",
      " [0.         0.         0.         0.         0.         0.\n",
      "  0.         0.         0.         0.         0.         0.\n",
      "  0.         0.         0.         0.         0.         0.\n",
      "  0.         0.         0.         0.         0.         0.\n",
      "  0.         0.         0.         0.        ]\n",
      " [0.         0.         0.         0.         0.         0.\n",
      "  0.         0.         0.         0.         0.         0.\n",
      "  0.         0.         0.         0.         0.         0.\n",
      "  0.         0.         0.         0.         0.         0.\n",
      "  0.         0.         0.         0.        ]\n",
      " [0.         0.         0.         0.         0.         0.\n",
      "  0.         0.         0.         0.         0.         0.\n",
      "  0.         0.         0.         0.         0.         0.\n",
      "  0.         0.         0.         0.         0.         0.\n",
      "  0.         0.         0.         0.        ]]\n"
     ]
    }
   ],
   "source": [
    "print(img1.reshape(28, 28))"
   ]
  },
  {
   "cell_type": "markdown",
   "metadata": {},
   "source": [
    "#### A label is a Numpy array which has the shape (10, 1). It is a one-hot encoding. Every entry of this array is 0 except for one entry which has the value 1. The index of the 1 indicates the digit the label represents. For example, if the 1 is at index 5, then it represents the digit 5. \n",
    "\n",
    "#### Print out the lb1. What digit is this first image of the training set? (Answer: 5) "
   ]
  },
  {
   "cell_type": "code",
   "execution_count": 5,
   "metadata": {
    "scrolled": true
   },
   "outputs": [
    {
     "name": "stdout",
     "output_type": "stream",
     "text": [
      "[[0.]\n",
      " [0.]\n",
      " [0.]\n",
      " [0.]\n",
      " [0.]\n",
      " [1.]\n",
      " [0.]\n",
      " [0.]\n",
      " [0.]\n",
      " [0.]]\n"
     ]
    }
   ],
   "source": [
    "print(lb1)"
   ]
  },
  {
   "cell_type": "code",
   "execution_count": 40,
   "metadata": {},
   "outputs": [
    {
     "name": "stdout",
     "output_type": "stream",
     "text": [
      "[[0.]\n",
      " [1.]\n",
      " [0.]\n",
      " [0.]\n",
      " [0.]\n",
      " [0.]\n",
      " [0.]\n",
      " [0.]\n",
      " [0.]\n",
      " [0.]]\n"
     ]
    }
   ],
   "source": [
    "img100, lb100 = training_data[99]\n",
    "print(lb100)"
   ]
  },
  {
   "cell_type": "markdown",
   "metadata": {},
   "source": [
    "#### Unpack the 100th image of the training_data list into an (image, label) tuple. Print out the label. What digit is this image? (Answer: 1) "
   ]
  },
  {
   "cell_type": "code",
   "execution_count": 6,
   "metadata": {},
   "outputs": [
    {
     "name": "stdout",
     "output_type": "stream",
     "text": [
      "[[0.]\n",
      " [1.]\n",
      " [0.]\n",
      " [0.]\n",
      " [0.]\n",
      " [0.]\n",
      " [0.]\n",
      " [0.]\n",
      " [0.]\n",
      " [0.]]\n"
     ]
    }
   ],
   "source": [
    "img99, lb99 = training_data[99]\n",
    "print(lb99)"
   ]
  },
  {
   "cell_type": "markdown",
   "metadata": {},
   "source": [
    "#### The function plot_image below draw an MNIST image using the matplotlib library. Remember to run it by pressing Shift-Enter!"
   ]
  },
  {
   "cell_type": "code",
   "execution_count": 41,
   "metadata": {},
   "outputs": [],
   "source": [
    "def plot_image(image):\n",
    "    \"\"\" Plot a single MNIST image.\"\"\"\n",
    "    image = image.reshape(28,28)\n",
    "    fig, axes = plt.subplots()\n",
    "    axes.matshow(image, cmap=plt.cm.binary)\n",
    "    plt.show()"
   ]
  },
  {
   "cell_type": "code",
   "execution_count": 42,
   "metadata": {},
   "outputs": [
    {
     "data": {
      "image/png": "[encoded data removed]",
      "text/plain": [
       "<Figure size 432x288 with 1 Axes>"
      ]
     },
     "metadata": {
      "needs_background": "light"
     },
     "output_type": "display_data"
    }
   ],
   "source": [
    "plot_image(img1)"
   ]
  },
  {
   "cell_type": "markdown",
   "metadata": {},
   "source": [
    "#### Call the function to plot the first image. In this case, we do not want to print the returned value of the function. Rather, we want the jupyter notebook to output its value. Call the function plot_image and then press Shift-Enter to output its value which is the image. \n",
    "\n",
    "Do this:\n",
    "```python\n",
    "plot_image(img1)\n",
    "````"
   ]
  },
  {
   "cell_type": "code",
   "execution_count": 8,
   "metadata": {
    "scrolled": false
   },
   "outputs": [
    {
     "data": {
      "image/png": "[encoded data removed]",
      "text/plain": [
       "<Figure size 432x288 with 1 Axes>"
      ]
     },
     "metadata": {
      "needs_background": "light"
     },
     "output_type": "display_data"
    }
   ],
   "source": [
    "plot_image(img1)"
   ]
  },
  {
   "cell_type": "code",
   "execution_count": 9,
   "metadata": {},
   "outputs": [
    {
     "data": {
      "image/png": "[encoded data removed]",
      "text/plain": [
       "<Figure size 432x288 with 1 Axes>"
      ]
     },
     "metadata": {
      "needs_background": "light"
     },
     "output_type": "display_data"
    }
   ],
   "source": [
    "plot_image(img99)"
   ]
  },
  {
   "cell_type": "markdown",
   "metadata": {},
   "source": [
    "#### The function plot_images below draw a list of images. Remember to run it by pressing Shift-Enter!"
   ]
  },
  {
   "cell_type": "code",
   "execution_count": 43,
   "metadata": {},
   "outputs": [],
   "source": [
    "def plot_images(images):\n",
    "    \"Plot a list of MNIST images.\"\n",
    "    fig, axes = plt.subplots(nrows=1, ncols=len(images))\n",
    "    for j, ax in enumerate(axes):\n",
    "        ax.matshow(images[j][0].reshape(28,28), cmap = plt.cm.binary)\n",
    "        ax.set_xticks([])\n",
    "        ax.set_yticks([])\n",
    "    plt.show()"
   ]
  },
  {
   "cell_type": "code",
   "execution_count": 45,
   "metadata": {},
   "outputs": [
    {
     "data": {
      "image/png": "[encoded data removed]",
      "text/plain": [
       "<Figure size 432x288 with 11 Axes>"
      ]
     },
     "metadata": {},
     "output_type": "display_data"
    }
   ],
   "source": [
    "plot_images(training_data[12:23])"
   ]
  },
  {
   "cell_type": "markdown",
   "metadata": {},
   "source": [
    "#### Call the function above to plot first 10 images. Use slicing on the training_data list!"
   ]
  },
  {
   "cell_type": "code",
   "execution_count": 11,
   "metadata": {
    "scrolled": true
   },
   "outputs": [
    {
     "data": {
      "image/png": "[encoded data removed]",
      "text/plain": [
       "<Figure size 432x288 with 10 Axes>"
      ]
     },
     "metadata": {},
     "output_type": "display_data"
    }
   ],
   "source": [
    "plot_images(training_data[:10])"
   ]
  },
  {
   "cell_type": "markdown",
   "metadata": {},
   "source": [
    "#### The sigmoid function is define as $$\\sigma(x)=\\frac{1}{1+e^{-x}}.$$ Implement the sigmoid function. Hint: Use np.exp() for the exponential function. "
   ]
  },
  {
   "cell_type": "code",
   "execution_count": 17,
   "metadata": {},
   "outputs": [],
   "source": [
    "def sigmoid(x):\n",
    "    \"\"\"Returns the output of the sigmoid or logistic function.\"\"\"\n",
    "    return 1/(1+np.exp(-x))\n",
    "    "
   ]
  },
  {
   "cell_type": "markdown",
   "metadata": {},
   "source": [
    "Given a vector $\\vec{x}\\in\\mathbb{R}^n$, the sigmoid function $\\sigma:\\mathbb{R}\\rightarrow\\mathbb{R}$ can be extended to a vector-valued function $\\sigma:\\mathbb{R}^n\\rightarrow\\mathbb{R}^n$ by applying $\\sigma$ elementwise. \n",
    "That is, if\n",
    "$$\\vec{x}=\\left[ \\begin{array}{cccc}\n",
    "x_{1} \\\\\n",
    "x_{2} \\\\\n",
    "\\vdots \\\\\n",
    "x_{m} \n",
    "\\end{array} \\right]$$\n",
    "then\n",
    "$$\\sigma(\\vec{x})=\\left[ \\begin{array}{cccc}\n",
    "\\sigma(x_{1}) \\\\\n",
    "\\sigma(x_{2}) \\\\\n",
    "\\vdots \\\\\n",
    "\\sigma(x_{m}) \n",
    "\\end{array} \\right].$$\n",
    "\n",
    "Similarly, $\\sigma$ can be applied to a $m\\times n$ matrix elementwise. \n",
    "For example, if $$\\vec{x}=\\left[ \\begin{array}{cccc}\n",
    "1 \\\\\n",
    "2 \\\\\n",
    "3 \n",
    "\\end{array} \\right]$$\n",
    "then\n",
    "$$\\sigma(\\vec{x})=\\left[ \\begin{array}{cccc}\n",
    "\\sigma(1) \\\\\n",
    "\\sigma(2) \\\\\n",
    "\\sigma(3) \n",
    "\\end{array} \\right]\\approx\\left[ \\begin{array}{cccc}\n",
    "0.73 \\\\\n",
    "0.88 \\\\\n",
    "0.95 \n",
    "\\end{array} \\right]$$"
   ]
  },
  {
   "cell_type": "code",
   "execution_count": 5,
   "metadata": {
    "scrolled": true
   },
   "outputs": [
    {
     "data": {
      "text/plain": [
       "array([[0.73105858],\n",
       "       [0.88079708],\n",
       "       [0.95257413]])"
      ]
     },
     "execution_count": 5,
     "metadata": {},
     "output_type": "execute_result"
    }
   ],
   "source": [
    "x = np.array([[1],[2],[3]])\n",
    "sigmoid(x)\n"
   ]
  },
  {
   "cell_type": "markdown",
   "metadata": {},
   "source": [
    "The operation $AB$ is matrix multiplication. For example:\n",
    "\n",
    "$$\\left[\\begin{array}{rr}\n",
    "1 & 2 \\\\\n",
    "3 & 4\n",
    "\\end{array}\\right]\\left[\\begin{array}{r}\n",
    "1 \\\\\n",
    "2\n",
    "\\end{array}\\right]=\\left[\\begin{array}{r}\n",
    "5 \\\\\n",
    "11\n",
    "\\end{array}\\right]$$ \n",
    "\n"
   ]
  },
  {
   "cell_type": "markdown",
   "metadata": {},
   "source": [
    "#### Use np.dot(A, B) to calculate the matrix multiplication AB below."
   ]
  },
  {
   "cell_type": "code",
   "execution_count": 12,
   "metadata": {
    "scrolled": true
   },
   "outputs": [
    {
     "data": {
      "text/plain": [
       "array([[ 5],\n",
       "       [11]])"
      ]
     },
     "execution_count": 12,
     "metadata": {},
     "output_type": "execute_result"
    }
   ],
   "source": [
    "A = np.array([[1,2],[3,4]])\n",
    "B = np.array([[1],[2]])\n",
    "np.dot(A, B)\n"
   ]
  },
  {
   "cell_type": "markdown",
   "metadata": {},
   "source": [
    "Define $p_1(\\vec{x})=W_1\\vec{x}+\\vec{b}_1$ and $p_2(\\vec{x})=W_2\\vec{x}+\\vec{b}_2$ for some matrices $W_1, W_2, \\vec{b}_1, \\text{and } \\vec{b}_2$ where the product is matrix multiplication and the addition is matrix addition.  \n",
    "\n",
    "Consider the classifier or score function $f=\\sigma\\circ p_2\\circ\\sigma\\circ p_1:\\mathbb{R}^{784}\\rightarrow\\mathbb{R}^{10}.$ This is a two-layer neural network. Assume that the hidden layer is 30-dimensional. The score function takes a flattened MNIST image of shape `(784,1)` and output a one-hot vector of shape `(10,1)`. The class with the highest score is the label predicted by the classifier. \n",
    "\n",
    "Training a neural network amounts to producing a set parameters $W_1, W_2, \\vec{b}_1, \\text{and } \\vec{b}_1$ whose score function $f(x; W_1, W_2, \\vec{b}_1, \\vec{b}_2)$ can accurately classify unseen images. \n"
   ]
  },
  {
   "cell_type": "markdown",
   "metadata": {},
   "source": [
    "#### What are the dimensions of $W_1,W_2,b_1,b_2$? Write your answer in this cell using markdown.\n",
    "\n",
    "Answer: W1: (30,784), b1: (30,1), W2: (10,30), b2: (10,1)"
   ]
  },
  {
   "cell_type": "markdown",
   "metadata": {},
   "source": [
    "To demonstrate an example of such a score function, let's load up a set of parameters that has been trained. "
   ]
  },
  {
   "cell_type": "code",
   "execution_count": 13,
   "metadata": {},
   "outputs": [],
   "source": [
    "with open(\"parameters.npy\", mode=\"rb\") as r:\n",
    "    parameters = np.load(r, allow_pickle = True)\n",
    "    W1, B1, W2, B2 = parameters"
   ]
  },
  {
   "cell_type": "markdown",
   "metadata": {},
   "source": [
    "#### Implement the score function with these set of parameters. "
   ]
  },
  {
   "cell_type": "code",
   "execution_count": 26,
   "metadata": {},
   "outputs": [],
   "source": [
    "def f(x, W1, W2, B1, B2):\n",
    "    \"\"\"Return the output of the network if ``x`` is input image and\n",
    "    W1, W2, B1 and B2 are the learnable weights. \"\"\"\n",
    "    #Z1 = W1*x+B1  (* represents matrix multiplication, for example, np.dot(A, B) is A*B)\n",
    "    Z1 = np.dot(W1, x) + B1\n",
    "    #A1 = sigmoid(Z1)\n",
    "    A1 = sigmoid(Z1)\n",
    "    #Z2 = W2*A1+B2 (* represents matrix multiplication)\n",
    "    Z2 = np.dot(W2, A1) + B2\n",
    "    #A2 = sigmoid(Z2)\n",
    "    A2 = sigmoid(Z2)\n",
    "    label = np.argmax(A2)\n",
    "    return label\n"
   ]
  },
  {
   "cell_type": "code",
   "execution_count": 20,
   "metadata": {},
   "outputs": [
    {
     "name": "stdout",
     "output_type": "stream",
     "text": [
      "(784, 1)\n"
     ]
    }
   ],
   "source": [
    "print(img1.shape)\n"
   ]
  },
  {
   "cell_type": "code",
   "execution_count": 30,
   "metadata": {},
   "outputs": [
    {
     "data": {
      "text/plain": [
       "1"
      ]
     },
     "execution_count": 30,
     "metadata": {},
     "output_type": "execute_result"
    }
   ],
   "source": [
    "f(img99, W1, W2, B1, B2)"
   ]
  },
  {
   "cell_type": "code",
   "execution_count": 24,
   "metadata": {
    "scrolled": false
   },
   "outputs": [
    {
     "data": {
      "image/png": "[encoded data removed]",
      "text/plain": [
       "<Figure size 432x288 with 1 Axes>"
      ]
     },
     "metadata": {
      "needs_background": "light"
     },
     "output_type": "display_data"
    }
   ],
   "source": [
    "img47, lb47 = training_data[47]\n",
    "plot_image(img47)"
   ]
  },
  {
   "cell_type": "code",
   "execution_count": 25,
   "metadata": {},
   "outputs": [
    {
     "data": {
      "text/plain": [
       "array([[2.53715393e-05],\n",
       "       [1.33066136e-06],\n",
       "       [5.38327853e-12],\n",
       "       [1.63185682e-06],\n",
       "       [2.44869042e-06],\n",
       "       [9.99999711e-01],\n",
       "       [2.51329419e-10],\n",
       "       [3.03440414e-07],\n",
       "       [2.13043894e-06],\n",
       "       [1.36756548e-11]])"
      ]
     },
     "execution_count": 25,
     "metadata": {},
     "output_type": "execute_result"
    }
   ],
   "source": [
    "f(img47, W1, W2, B1, B2)"
   ]
  },
  {
   "cell_type": "markdown",
   "metadata": {},
   "source": [
    "#### Apply your score function above to the first two images of training_data. Does it classify them correctly?  \n",
    "```python\n",
    "img, lbl = training_data[0]\n",
    "f(img, W1, W2, B1, B2)\n",
    "```\n"
   ]
  },
  {
   "cell_type": "code",
   "execution_count": null,
   "metadata": {},
   "outputs": [],
   "source": []
  },
  {
   "cell_type": "code",
   "execution_count": null,
   "metadata": {},
   "outputs": [],
   "source": []
  },
  {
   "cell_type": "markdown",
   "metadata": {},
   "source": [
    "#### The predict function below predict a list of images."
   ]
  },
  {
   "cell_type": "code",
   "execution_count": 31,
   "metadata": {},
   "outputs": [],
   "source": [
    "def predict(images, W1, W2, B1, B2):\n",
    "    predictions = []  #empty list\n",
    "    for im in images:\n",
    "        a = f(im[0], W1, W2, B1, B2)\n",
    "        predictions.append(a) # add prediction to predictions list\n",
    "    return predictions"
   ]
  },
  {
   "cell_type": "markdown",
   "metadata": {},
   "source": [
    "#### Call predict above with the first 10 images of the training data. Does it classify them correctly? (Answer 10 out of 10). But this is not surprising since the algorithm was trained on these images, that is, the algorithm has already seen these pictures. Repeat this problem by predicting the first 10 images of the test data which contains images that the algorithm has NOT seen. "
   ]
  },
  {
   "cell_type": "code",
   "execution_count": 32,
   "metadata": {},
   "outputs": [
    {
     "data": {
      "image/png": "[encoded data removed]",
      "text/plain": [
       "<Figure size 432x288 with 10 Axes>"
      ]
     },
     "metadata": {},
     "output_type": "display_data"
    }
   ],
   "source": [
    "plot_images(training_data[:10])"
   ]
  },
  {
   "cell_type": "code",
   "execution_count": 34,
   "metadata": {},
   "outputs": [
    {
     "data": {
      "text/plain": [
       "[5, 0, 4, 1, 9, 2, 1, 3, 1, 4]"
      ]
     },
     "execution_count": 34,
     "metadata": {},
     "output_type": "execute_result"
    }
   ],
   "source": [
    "predict(training_data[:10], W1, W2, B1, B2)"
   ]
  },
  {
   "cell_type": "code",
   "execution_count": null,
   "metadata": {},
   "outputs": [],
   "source": []
  }
 ],
 "metadata": {
  "kernelspec": {
   "display_name": "Python 3 (ipykernel)",
   "language": "python",
   "name": "python3"
  },
  "language_info": {
   "codemirror_mode": {
    "name": "ipython",
    "version": 3
   },
   "file_extension": ".py",
   "mimetype": "text/x-python",
   "name": "python",
   "nbconvert_exporter": "python",
   "pygments_lexer": "ipython3",
   "version": "3.9.7"
  }
 },
 "nbformat": 4,
 "nbformat_minor": 2
}
