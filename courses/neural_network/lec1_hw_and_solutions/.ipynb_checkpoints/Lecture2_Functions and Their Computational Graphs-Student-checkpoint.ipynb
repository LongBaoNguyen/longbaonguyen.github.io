{
 "cells": [
  {
   "cell_type": "markdown",
   "metadata": {},
   "source": [
    "## Lecture 2: Functions and Their Computational Graphs\n",
    "\n",
    "### by Long Nguyen\n",
    "\n",
    "This notebook is supplemental to Lecture 2 of the series \"Introduction to Neural Networks\"."
   ]
  },
  {
   "cell_type": "markdown",
   "metadata": {},
   "source": [
    "Given a set of greyscale $30\\times 30$ images representing lower-cased letters of the English alphabet. Suppose a one-layer neural network is implemented with the score function $$f(\\vec{x})=(\\sigma\\circ p)(\\vec{x})=\\sigma(W\\vec{x}+\\vec{b})$$ to classify these letters. \n",
    "\n",
    "#### What dimensions are the input and output layers?\n",
    "\n",
    "#### Answer:\n",
    "\n",
    "\n",
    "#### What are the dimensions of the matrices `W` and `b`?\n",
    "\n",
    "#### Answer:  "
   ]
  },
  {
   "cell_type": "markdown",
   "metadata": {},
   "source": [
    "#### How many total parameters are used in the one-layer network above? \n",
    "\n",
    "#### Answer:"
   ]
  },
  {
   "cell_type": "markdown",
   "metadata": {},
   "source": [
    "Given a greyscale $50\\times 50$ image. Suppose a two-layer neural network with a $20$-dimensional or $20$ units hidden layer is implemented with the score function $$f(\\vec{x})=(\\sigma\\circ f_2\\circ\\sigma\\circ f_1)(\\vec{x})=\\sigma(W_2\\sigma(W_1\\vec{x}+\\vec{b}_1)+\\vec{b}_2)$$\n",
    "\n",
    "Suppose also that the score function accepts as inputs images that belong to one of 5 categories. \n",
    "\n",
    "#### What dimensions are the input and output layers?\n",
    "\n",
    "#### Answer:\n",
    "\n",
    "#### What are the dimensions of the matrices `W1`, `W2`, `b1` and `b2` ?\n",
    "\n",
    "#### Answer:  "
   ]
  },
  {
   "cell_type": "markdown",
   "metadata": {},
   "source": [
    "#### How many total parameters are used in the two-layer network above? \n",
    "\n",
    "#### Answer:"
   ]
  },
  {
   "cell_type": "code",
   "execution_count": null,
   "metadata": {
    "collapsed": true
   },
   "outputs": [],
   "source": []
  }
 ],
 "metadata": {
  "kernelspec": {
   "display_name": "Python 3",
   "language": "python",
   "name": "python3"
  },
  "language_info": {
   "codemirror_mode": {
    "name": "ipython",
    "version": 3
   },
   "file_extension": ".py",
   "mimetype": "text/x-python",
   "name": "python",
   "nbconvert_exporter": "python",
   "pygments_lexer": "ipython3",
   "version": "3.6.3"
  }
 },
 "nbformat": 4,
 "nbformat_minor": 2
}
