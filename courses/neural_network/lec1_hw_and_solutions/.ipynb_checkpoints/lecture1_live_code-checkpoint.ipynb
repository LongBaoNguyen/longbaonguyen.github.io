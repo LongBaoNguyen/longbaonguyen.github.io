{
 "cells": [
  {
   "cell_type": "markdown",
   "metadata": {},
   "source": [
    "## Lecture 1: Introduction to Neural Networks\n",
    "\n",
    "### by Long Nguyen\n",
    "\n",
    "This notebook is supplemental to Lecture 1 of the video series \"Introduction to Neural Networks\". These lectures are adapted from Michael Nielsen's free online book [\"Neural Networks and Deep Learning\"](http://neuralnetworksanddeeplearning.com/)"
   ]
  },
  {
   "cell_type": "markdown",
   "metadata": {},
   "source": [
    "### The MNIST Dataset"
   ]
  },
  {
   "cell_type": "code",
   "execution_count": 3,
   "metadata": {},
   "outputs": [],
   "source": [
    "from mnist_loader import load_data_wrapper\n",
    "import numpy as np\n",
    "import matplotlib.pyplot as plt"
   ]
  },
  {
   "cell_type": "code",
   "execution_count": 4,
   "metadata": {},
   "outputs": [],
   "source": [
    "training_data, validation_data, test_data = load_data_wrapper()"
   ]
  },
  {
   "cell_type": "markdown",
   "metadata": {},
   "source": [
    "#### The variables training_data, validation_data and test_data above are each a list of (image, label) tuples where image and label are numpy arrays. We won't use the validation_data for this course.\n",
    "\n",
    "#### How many images are in training_data? \n"
   ]
  },
  {
   "cell_type": "code",
   "execution_count": null,
   "metadata": {},
   "outputs": [],
   "source": []
  },
  {
   "cell_type": "markdown",
   "metadata": {},
   "source": [
    "#### Unpack the first image into two variables img1, lb1. What is the shape of each image? What is the shape of each label? "
   ]
  },
  {
   "cell_type": "code",
   "execution_count": 14,
   "metadata": {
    "scrolled": true
   },
   "outputs": [
    {
     "name": "stdout",
     "output_type": "stream",
     "text": [
      "(784, 1)\n",
      "(10, 1)\n"
     ]
    }
   ],
   "source": [
    "img1 =  # array of pixels\n",
    "lb1 =   # one-hot vector label            \n",
    "\n",
    "# print out the shape of img1, lb1\n",
    "\n",
    "\n",
    "# or equivalently, unpacking the 2-tuple (image, label)\n",
    "# img1, lb1 = training_data[0]\n"
   ]
  },
  {
   "cell_type": "markdown",
   "metadata": {},
   "source": [
    "Both the image and its label are rank 2 numpy arrays of shape (781,1) and (10,1), respectively. A label is a one-hot encoding of the digit.  "
   ]
  },
  {
   "cell_type": "markdown",
   "metadata": {},
   "source": [
    "#### Print out the lb1. What digit is this first image of the training set? "
   ]
  },
  {
   "cell_type": "code",
   "execution_count": null,
   "metadata": {},
   "outputs": [],
   "source": []
  },
  {
   "cell_type": "markdown",
   "metadata": {},
   "source": [
    "The function plot_mnist_digit below draw an MNIST image using the matplotlib library.  "
   ]
  },
  {
   "cell_type": "code",
   "execution_count": 18,
   "metadata": {},
   "outputs": [],
   "source": [
    "def plot_image(image):\n",
    "    \"\"\" Plot a single MNIST image. \n",
    "        Argument image is a numpy.ndarray of shape (784,1)\n",
    "    \"\"\"\n",
    "    image = image.reshape(28,28)\n",
    "    fig, axes = plt.subplots()\n",
    "    axes.matshow(image, cmap=plt.cm.binary)\n",
    "    plt.show()"
   ]
  },
  {
   "cell_type": "markdown",
   "metadata": {},
   "source": [
    "#### Call the function to plot the first image."
   ]
  },
  {
   "cell_type": "code",
   "execution_count": null,
   "metadata": {},
   "outputs": [],
   "source": []
  },
  {
   "cell_type": "code",
   "execution_count": 22,
   "metadata": {},
   "outputs": [],
   "source": [
    "def plot_images(images):\n",
    "    \"\"\" Plot a list of MNIST images.\n",
    "        Argument images is a list of (image, label) tuples. \n",
    "    \"\"\"\n",
    "    fig, axes = plt.subplots(nrows=1, ncols=len(images))\n",
    "    for j, ax in enumerate(axes):\n",
    "        ax.matshow(images[j][0].reshape(28,28), cmap = plt.cm.binary)\n",
    "        ax.set_xticks([])\n",
    "        ax.set_yticks([])\n",
    "    plt.show()"
   ]
  },
  {
   "cell_type": "markdown",
   "metadata": {},
   "source": [
    "#### Call the function above to plot first 10 images."
   ]
  },
  {
   "cell_type": "code",
   "execution_count": null,
   "metadata": {
    "scrolled": true
   },
   "outputs": [],
   "source": []
  },
  {
   "cell_type": "markdown",
   "metadata": {},
   "source": [
    "#### The sigmoid function is defined as $$\\sigma(x)=\\frac{1}{1+e^{-x}}.$$ Implement the sigmoid function. Hint: Use np.exp() for the exponential function. "
   ]
  },
  {
   "cell_type": "code",
   "execution_count": 1,
   "metadata": {},
   "outputs": [],
   "source": [
    "def sigmoid(x):\n",
    "    \"\"\"Returns the output of the sigmoid or logistic function.\"\"\"\n"
   ]
  },
  {
   "cell_type": "markdown",
   "metadata": {},
   "source": [
    "Given a vector $\\vec{x}\\in\\mathbb{R}^n$, the sigmoid function $\\sigma:\\mathbb{R}\\rightarrow\\mathbb{R}$ can be extended to a vector-valued function $\\sigma:\\mathbb{R}^n\\rightarrow\\mathbb{R}^n$ by applying $\\sigma$ elementwise. \n",
    "That is, if\n",
    "$$\\vec{x}=\\left[ \\begin{array}{cccc}\n",
    "x_{1} \\\\\n",
    "x_{2} \\\\\n",
    "\\vdots \\\\\n",
    "x_{m} \n",
    "\\end{array} \\right]$$\n",
    "then\n",
    "$$\\sigma(\\vec{x})=\\left[ \\begin{array}{cccc}\n",
    "\\sigma(x_{1}) \\\\\n",
    "\\sigma(x_{2}) \\\\\n",
    "\\vdots \\\\\n",
    "\\sigma(x_{m}) \n",
    "\\end{array} \\right].$$\n",
    "\n",
    "Similarly, $\\sigma$ can be applied to a $m\\times n$ matrix elementwise. \n",
    "\n",
    "For example, if $$\\vec{x}=\\left[ \\begin{array}{cccc}\n",
    "1 \\\\\n",
    "2 \\\\\n",
    "3 \n",
    "\\end{array} \\right]$$\n",
    "then\n",
    "$$\\sigma(\\vec{x})=\\left[ \\begin{array}{cccc}\n",
    "\\sigma(1) \\\\\n",
    "\\sigma(2) \\\\\n",
    "\\sigma(3) \n",
    "\\end{array} \\right]\\approx\\left[ \\begin{array}{cccc}\n",
    "0.73 \\\\\n",
    "0.88 \\\\\n",
    "0.95 \n",
    "\\end{array} \\right]$$"
   ]
  },
  {
   "cell_type": "code",
   "execution_count": 5,
   "metadata": {},
   "outputs": [],
   "source": [
    "x = np.array([[1],[2],[3]])\n"
   ]
  },
  {
   "cell_type": "markdown",
   "metadata": {},
   "source": [
    "Define $f_1(\\vec{x})=W_1\\vec{x}+\\vec{b}_1$ and $f_2(\\vec{x})=W_2\\vec{x}+\\vec{b}_2$ for some $W_1, W_2, \\vec{b}_1, \\text{and } \\vec{b}_2.$ \n",
    "\n",
    "Consider the classifier or score function $f=\\sigma\\circ f_2\\circ\\sigma\\circ f_1:\\mathbb{R}^{784}\\rightarrow\\mathbb{R}^{10}.$ This is a two-layer neural network. The score function takes a flattened MNIST image of shape `(784,1)` and output a one-hot vector of shape `(10,1)`. The class with the highest score is the label predicted by the classifier. \n",
    "\n",
    "The training a neural network amounts to producing a set parameters $W_1, W_2, \\vec{b}_1, \\text{and } \\vec{b}_1$ whose score function $f(x; W_1, W_2, \\vec{b}_1, \\vec{b}_2)$ can accurately classify unseen images. \n"
   ]
  },
  {
   "cell_type": "markdown",
   "metadata": {},
   "source": [
    "##### To demonstrate an example of such a score function, let's load up a set of parameters that has already been trained. As we will see in a later lecture, the training involve examining 50,000 images 30 times. "
   ]
  },
  {
   "cell_type": "code",
   "execution_count": 26,
   "metadata": {},
   "outputs": [],
   "source": [
    "with open(\"parameters.npy\", mode=\"rb\") as r:\n",
    "    parameters = np.load(r)\n",
    "    W1, B1, W2, B2 = parameters"
   ]
  },
  {
   "cell_type": "markdown",
   "metadata": {},
   "source": [
    "#### Implement the score function with these set of parameters. "
   ]
  },
  {
   "cell_type": "code",
   "execution_count": 27,
   "metadata": {},
   "outputs": [],
   "source": [
    "def f(x, W1, W2, B1, B2):\n",
    "    \"\"\"Return the output of the network if ``x`` is input image and\n",
    "    W1, W2, B1 and B2 are the learnable parameters or weights. \"\"\"\n",
    "    \n",
    "    \n",
    "    return "
   ]
  },
  {
   "cell_type": "markdown",
   "metadata": {},
   "source": [
    "#### Apply your score function above to the first two images. Does it classify them correctly?  "
   ]
  },
  {
   "cell_type": "code",
   "execution_count": null,
   "metadata": {},
   "outputs": [],
   "source": []
  },
  {
   "cell_type": "code",
   "execution_count": 33,
   "metadata": {},
   "outputs": [],
   "source": [
    "def predict(images, W1, W2, B1, B2):\n",
    "    \"\"\"Return the predictions for a list of images given the parameters.\n",
    "    \"\"\"\n",
    "    predictions = []  # empty list\n",
    "    for im in images:\n",
    "        a = f(im[0], W1, W2, B1, B2)\n",
    "        predictions.append(np.argmax(a)) # add prediction to predictions list\n",
    "    return predictions"
   ]
  },
  {
   "cell_type": "code",
   "execution_count": null,
   "metadata": {},
   "outputs": [],
   "source": []
  },
  {
   "cell_type": "code",
   "execution_count": null,
   "metadata": {},
   "outputs": [],
   "source": []
  }
 ],
 "metadata": {
  "kernelspec": {
   "display_name": "Python 3",
   "language": "python",
   "name": "python3"
  },
  "language_info": {
   "codemirror_mode": {
    "name": "ipython",
    "version": 3
   },
   "file_extension": ".py",
   "mimetype": "text/x-python",
   "name": "python",
   "nbconvert_exporter": "python",
   "pygments_lexer": "ipython3",
   "version": "3.6.4"
  }
 },
 "nbformat": 4,
 "nbformat_minor": 2
}
