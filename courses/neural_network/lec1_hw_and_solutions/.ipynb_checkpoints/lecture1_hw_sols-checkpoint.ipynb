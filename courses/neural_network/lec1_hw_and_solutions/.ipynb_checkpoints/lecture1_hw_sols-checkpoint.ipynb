{
 "cells": [
  {
   "cell_type": "markdown",
   "metadata": {},
   "source": [
    "## Lecture 1: Introduction to Neural Networks\n",
    "\n",
    "### by Long Nguyen\n",
    "\n",
    "This the solutions to [Lecture 1](https://youtu.be/r5RRIYG4BJA) homework notebook.\n",
    "\n"
   ]
  },
  {
   "cell_type": "markdown",
   "metadata": {},
   "source": [
    "### The MNIST Dataset"
   ]
  },
  {
   "cell_type": "code",
   "execution_count": 1,
   "metadata": {},
   "outputs": [],
   "source": [
    "from mnist_loader import load_data_wrapper\n",
    "import numpy as np\n",
    "import matplotlib.pyplot as plt"
   ]
  },
  {
   "cell_type": "code",
   "execution_count": 2,
   "metadata": {},
   "outputs": [],
   "source": [
    "training_data, validation_data, test_data = load_data_wrapper()"
   ]
  },
  {
   "cell_type": "markdown",
   "metadata": {},
   "source": [
    "#### The variables training_data, validation_data and test_data above are each a list of (image, label) tuples where image and label are numpy arrays. We won't use the validataion_data for this course. How many images are in training_data? \n"
   ]
  },
  {
   "cell_type": "code",
   "execution_count": 3,
   "metadata": {},
   "outputs": [
    {
     "data": {
      "text/plain": [
       "50000"
      ]
     },
     "execution_count": 3,
     "metadata": {},
     "output_type": "execute_result"
    }
   ],
   "source": [
    "len(training_data)"
   ]
  },
  {
   "cell_type": "markdown",
   "metadata": {},
   "source": [
    "#### Unpack the first image into two variables img1, lb1. What is the shape of each image? What is the shape of each label? "
   ]
  },
  {
   "cell_type": "code",
   "execution_count": 4,
   "metadata": {
    "scrolled": true
   },
   "outputs": [
    {
     "name": "stdout",
     "output_type": "stream",
     "text": [
      "(784, 1)\n",
      "(10, 1)\n"
     ]
    }
   ],
   "source": [
    "img1 = training_data[0][0]\n",
    "lb1 = training_data[0][1]\n",
    "# or equivalently, unpacking the 2-tuple\n",
    "# img1, lbl1 = training_data[0]\n",
    "print(img1.shape)\n",
    "print(lb1.shape)\n"
   ]
  },
  {
   "cell_type": "markdown",
   "metadata": {},
   "source": [
    "Both the image and its label are rank 2 numpy arrays of shape (781,1) and (10,1), respectively. A label is a one-hot encoding of the digit.  "
   ]
  },
  {
   "cell_type": "markdown",
   "metadata": {},
   "source": [
    "#### Print out the lb1. What digit is this first image of the training set? The 100th image? (Answers: 5 and 1.) "
   ]
  },
  {
   "cell_type": "code",
   "execution_count": 5,
   "metadata": {},
   "outputs": [
    {
     "name": "stdout",
     "output_type": "stream",
     "text": [
      "[[0.]\n",
      " [0.]\n",
      " [0.]\n",
      " [0.]\n",
      " [0.]\n",
      " [1.]\n",
      " [0.]\n",
      " [0.]\n",
      " [0.]\n",
      " [0.]]\n",
      "5\n",
      "[[0.]\n",
      " [1.]\n",
      " [0.]\n",
      " [0.]\n",
      " [0.]\n",
      " [0.]\n",
      " [0.]\n",
      " [0.]\n",
      " [0.]\n",
      " [0.]]\n",
      "1\n"
     ]
    }
   ],
   "source": [
    "print(lb1)\n",
    "print(np.argmax(lb1)) # returns index of largest value\n",
    "print(training_data[99][1])\n",
    "print(np.argmax(training_data[99][1]))\n"
   ]
  },
  {
   "cell_type": "markdown",
   "metadata": {},
   "source": [
    "The function plot_mnist_digit below draw an MNIST image using the matplotlib library.  "
   ]
  },
  {
   "cell_type": "code",
   "execution_count": 6,
   "metadata": {},
   "outputs": [],
   "source": [
    "def plot_image(image):\n",
    "    \"\"\" Plot a single MNIST image.\"\"\"\n",
    "    image = image.reshape(28,28)\n",
    "    fig, axes = plt.subplots()\n",
    "    axes.matshow(image, cmap=plt.cm.binary)\n",
    "    plt.show()"
   ]
  },
  {
   "cell_type": "markdown",
   "metadata": {},
   "source": [
    "#### Call the function to plot the first image."
   ]
  },
  {
   "cell_type": "code",
   "execution_count": 7,
   "metadata": {},
   "outputs": [
    {
     "data": {
      "image/png": "[encoded data removed]",
      "text/plain": [
       "<Figure size 432x288 with 1 Axes>"
      ]
     },
     "metadata": {
      "needs_background": "light"
     },
     "output_type": "display_data"
    }
   ],
   "source": [
    "plot_image(img1)"
   ]
  },
  {
   "cell_type": "code",
   "execution_count": 8,
   "metadata": {},
   "outputs": [],
   "source": [
    "def plot_images(images):\n",
    "    \"Plot a list of MNIST images.\"\n",
    "    fig, axes = plt.subplots(nrows=1, ncols=len(images))\n",
    "    for j, ax in enumerate(axes):\n",
    "        ax.matshow(images[j][0].reshape(28,28), cmap = plt.cm.binary)\n",
    "        ax.set_xticks([])\n",
    "        ax.set_yticks([])\n",
    "    plt.show()"
   ]
  },
  {
   "cell_type": "markdown",
   "metadata": {},
   "source": [
    "#### Call the function above to plot first 10 images."
   ]
  },
  {
   "cell_type": "code",
   "execution_count": 9,
   "metadata": {
    "scrolled": true
   },
   "outputs": [
    {
     "data": {
      "image/png": "[encoded data removed]",
      "text/plain": [
       "<Figure size 432x288 with 10 Axes>"
      ]
     },
     "metadata": {},
     "output_type": "display_data"
    }
   ],
   "source": [
    "plot_images(training_data[0:10])"
   ]
  },
  {
   "cell_type": "markdown",
   "metadata": {},
   "source": [
    "#### The sigmoid function is define as $$\\sigma(x)=\\frac{1}{1+e^{-x}}.$$ Implement the sigmoid function. Hint: Use np.exp() for the exponential function. "
   ]
  },
  {
   "cell_type": "code",
   "execution_count": 10,
   "metadata": {},
   "outputs": [],
   "source": [
    "def sigmoid(x):\n",
    "    \"\"\"Returns the output of the sigmoid or logistic function.\"\"\"\n",
    "    return 1/(1+np.exp(-x))\n",
    "    "
   ]
  },
  {
   "cell_type": "markdown",
   "metadata": {},
   "source": [
    "Given a vector $\\vec{x}\\in\\mathbb{R}^n$, the sigmoid function $\\sigma:\\mathbb{R}\\rightarrow\\mathbb{R}$ can be extended to a vector-valued function $\\sigma:\\mathbb{R}^n\\rightarrow\\mathbb{R}^n$ by applying $\\sigma$ elementwise. \n",
    "That is, if\n",
    "$$\\vec{x}=\\left[ \\begin{array}{cccc}\n",
    "x_{1} \\\\\n",
    "x_{2} \\\\\n",
    "\\vdots \\\\\n",
    "x_{m} \n",
    "\\end{array} \\right]$$\n",
    "then\n",
    "$$\\sigma(\\vec{x})=\\left[ \\begin{array}{cccc}\n",
    "\\sigma(x_{1}) \\\\\n",
    "\\sigma(x_{2}) \\\\\n",
    "\\vdots \\\\\n",
    "\\sigma(x_{m}) \n",
    "\\end{array} \\right].$$\n",
    "\n",
    "Similarly, $\\sigma$ can be applied to a $m\\times n$ matrix elementwise. \n",
    "For example, if $$\\vec{x}=\\left[ \\begin{array}{cccc}\n",
    "1 \\\\\n",
    "2 \\\\\n",
    "3 \n",
    "\\end{array} \\right]$$\n",
    "then\n",
    "$$\\sigma(\\vec{x})=\\left[ \\begin{array}{cccc}\n",
    "\\sigma(1) \\\\\n",
    "\\sigma(2) \\\\\n",
    "\\sigma(3) \n",
    "\\end{array} \\right]\\approx\\left[ \\begin{array}{cccc}\n",
    "0.73 \\\\\n",
    "0.88 \\\\\n",
    "0.95 \n",
    "\\end{array} \\right]$$"
   ]
  },
  {
   "cell_type": "code",
   "execution_count": 11,
   "metadata": {},
   "outputs": [
    {
     "data": {
      "text/plain": [
       "array([[0.73105858],\n",
       "       [0.88079708],\n",
       "       [0.95257413]])"
      ]
     },
     "execution_count": 11,
     "metadata": {},
     "output_type": "execute_result"
    }
   ],
   "source": [
    "x = np.array([[1],[2],[3]])\n",
    "sigmoid(x)\n"
   ]
  },
  {
   "cell_type": "markdown",
   "metadata": {},
   "source": [
    "Define $p_1(\\vec{x})=W_1\\vec{x}+\\vec{b}_1$ and $p_2(\\vec{x})=W_2\\vec{x}+\\vec{b}_2$ for some $W_1, W_2, \\vec{b}_1, \\text{and } \\vec{b}_2.$ \n",
    "\n",
    "Consider the classifier or score function $f=\\sigma\\circ p_2\\circ\\sigma\\circ p_1:\\mathbb{R}^{784}\\rightarrow\\mathbb{R}^{10}.$ This is a two-layer neural network. Assume that the hidden layer is 30-dimensional. The score function takes a flattened MNIST image of shape `(784,1)` and output a one-hot vector of shape `(10,1)`. The class with the highest score is the label predicted by the classifier. \n",
    "\n",
    "The training a neural network amounts to producing a set parameters $W_1, W_2, \\vec{b}_1, \\text{and } \\vec{b}_1$ whose score function $f(x; W_1, W_2, \\vec{b}_1, \\vec{b}_2)$ can accurately classify unseen images. \n"
   ]
  },
  {
   "cell_type": "markdown",
   "metadata": {},
   "source": [
    "#### What are the dimensions of $W_1,W_2,b_1,b_2$? Write your answer in this cell using markdown.\n",
    "\n",
    "Answer: W1: (30,784), b1: (30,1), W2: (10,30), b2: (10,1)"
   ]
  },
  {
   "cell_type": "markdown",
   "metadata": {},
   "source": [
    "To demonstrate an example of such a score function, let's load up a set of parameters that has been trained. "
   ]
  },
  {
   "cell_type": "code",
   "execution_count": 12,
   "metadata": {},
   "outputs": [],
   "source": [
    "with open(\"parameters.npy\", mode=\"rb\") as r:\n",
    "    parameters = np.load(r)\n",
    "    W1, B1, W2, B2 = parameters"
   ]
  },
  {
   "cell_type": "markdown",
   "metadata": {},
   "source": [
    "#### Implement the score function with these set of parameters. "
   ]
  },
  {
   "cell_type": "code",
   "execution_count": 13,
   "metadata": {},
   "outputs": [],
   "source": [
    "def f(x, W1, W2, B1, B2):\n",
    "    \"\"\"Return the output of the network if ``x`` is input image and\n",
    "    W1, W2, B1 and B2 are the learnable weights. \"\"\"\n",
    "    #Z1 = W1*x+B1  (* represents matrix multiplication)\n",
    "    Z1 = np.dot(W1, x) + B1\n",
    "    #A1 = sigmoid(Z1)\n",
    "    A1 = sigmoid(Z1)\n",
    "    #Z2 = W2*A1+B2 (* represents matrix multiplication)\n",
    "    Z2 = np.dot(W2, A1) + B2\n",
    "    #A2 = sigmoid(Z2)\n",
    "    A2 = sigmoid(Z2)\n",
    "    return A2\n"
   ]
  },
  {
   "cell_type": "markdown",
   "metadata": {},
   "source": [
    "#### Apply your score function above to the first two images. Does it classify them correctly?  "
   ]
  },
  {
   "cell_type": "code",
   "execution_count": 14,
   "metadata": {},
   "outputs": [
    {
     "data": {
      "text/plain": [
       "5"
      ]
     },
     "execution_count": 14,
     "metadata": {},
     "output_type": "execute_result"
    }
   ],
   "source": [
    "np.argmax(f(training_data[0][0],W1,W2,B1,B2))"
   ]
  },
  {
   "cell_type": "code",
   "execution_count": 15,
   "metadata": {},
   "outputs": [
    {
     "data": {
      "image/png": "[encoded data removed]",
      "text/plain": [
       "<Figure size 432x288 with 1 Axes>"
      ]
     },
     "metadata": {
      "needs_background": "light"
     },
     "output_type": "display_data"
    }
   ],
   "source": [
    "plot_image(training_data[0][0])"
   ]
  },
  {
   "cell_type": "code",
   "execution_count": 16,
   "metadata": {},
   "outputs": [
    {
     "data": {
      "text/plain": [
       "0"
      ]
     },
     "execution_count": 16,
     "metadata": {},
     "output_type": "execute_result"
    }
   ],
   "source": [
    "np.argmax(f(training_data[1][0],W1,W2,B1,B2))"
   ]
  },
  {
   "cell_type": "code",
   "execution_count": 17,
   "metadata": {},
   "outputs": [
    {
     "data": {
      "image/png": "[encoded data removed]",
      "text/plain": [
       "<Figure size 432x288 with 1 Axes>"
      ]
     },
     "metadata": {
      "needs_background": "light"
     },
     "output_type": "display_data"
    }
   ],
   "source": [
    "plot_image(training_data[1][0])"
   ]
  },
  {
   "cell_type": "markdown",
   "metadata": {},
   "source": [
    "#### The predict function below predict a list of images. It is missing one line of code. Fill in the code. "
   ]
  },
  {
   "cell_type": "code",
   "execution_count": 19,
   "metadata": {},
   "outputs": [],
   "source": [
    "def predict(images, W1, W2, B1, B2):\n",
    "    predictions = []  #empty list\n",
    "    for im in images:\n",
    "        # fill in one line of code here\n",
    "        # this line calls f above with the correct parameters\n",
    "        a = f(im[0], W1, W2, B1, B2)\n",
    "        predictions.append(np.argmax(a)) # add prediction to predictions list\n",
    "    return predictions"
   ]
  },
  {
   "cell_type": "markdown",
   "metadata": {},
   "source": [
    "#### Call predict above with the first 10 images of the training data. Does it classify them correctly? (Answer 10 out of 10). But this is not surprising since the algorithm was trained on these images, that is, the algorithm has already seen these pictures. Repeat this problem by predicting the first 10 images of the test data which contains images that the algorithm has NOT seen. "
   ]
  },
  {
   "cell_type": "code",
   "execution_count": 20,
   "metadata": {},
   "outputs": [
    {
     "data": {
      "text/plain": [
       "[5, 0, 4, 1, 9, 2, 1, 3, 1, 4]"
      ]
     },
     "execution_count": 20,
     "metadata": {},
     "output_type": "execute_result"
    }
   ],
   "source": [
    "predict(training_data[0:10],W1,W2,B1,B2)"
   ]
  },
  {
   "cell_type": "code",
   "execution_count": 22,
   "metadata": {},
   "outputs": [
    {
     "data": {
      "image/png": "[encoded data removed]",
      "text/plain": [
       "<Figure size 432x288 with 10 Axes>"
      ]
     },
     "metadata": {},
     "output_type": "display_data"
    }
   ],
   "source": [
    "plot_images(training_data[0:10])"
   ]
  },
  {
   "cell_type": "code",
   "execution_count": 23,
   "metadata": {
    "scrolled": true
   },
   "outputs": [
    {
     "data": {
      "text/plain": [
       "[7, 2, 1, 0, 4, 1, 4, 9, 6, 9]"
      ]
     },
     "execution_count": 23,
     "metadata": {},
     "output_type": "execute_result"
    }
   ],
   "source": [
    "predict(test_data[0:10],W1,W2,B1,B2)"
   ]
  },
  {
   "cell_type": "code",
   "execution_count": 24,
   "metadata": {},
   "outputs": [
    {
     "data": {
      "image/png": "[encoded data removed]",
      "text/plain": [
       "<Figure size 432x288 with 10 Axes>"
      ]
     },
     "metadata": {},
     "output_type": "display_data"
    }
   ],
   "source": [
    "plot_images(test_data[0:10])"
   ]
  },
  {
   "cell_type": "markdown",
   "metadata": {},
   "source": [
    "Predict the first 9 out 10 never before seen images correctly! It mistook the 5 for a 6. Amazing!"
   ]
  },
  {
   "cell_type": "markdown",
   "metadata": {
    "collapsed": true
   },
   "source": [
    "#### Find the the first TWO images in the test dataset that are classified incorrectly by the score function above. Write code to do this, do not use trial and error. Remember that unlike the training data, the test data label is NOT in one hot encoding format. This means you don't need to call np.argmax on your predictions.\n",
    "\n",
    "#### Run the following cell to see the difference in label encoding. "
   ]
  },
  {
   "cell_type": "code",
   "execution_count": 25,
   "metadata": {},
   "outputs": [
    {
     "name": "stdout",
     "output_type": "stream",
     "text": [
      "[[0.]\n",
      " [0.]\n",
      " [0.]\n",
      " [0.]\n",
      " [0.]\n",
      " [1.]\n",
      " [0.]\n",
      " [0.]\n",
      " [0.]\n",
      " [0.]]\n",
      "7\n"
     ]
    }
   ],
   "source": [
    "print(training_data[0][1]) # label for the first image of training data (5)\n",
    "print(test_data[0][1])     # label for the first image of testing data (7)"
   ]
  },
  {
   "cell_type": "code",
   "execution_count": 30,
   "metadata": {},
   "outputs": [],
   "source": [
    "def find_wrong(images,W1,W2,B1,B2):\n",
    "    \"Returns list of images that are incorrectly classified.\"\n",
    "    predictions = predict(images, W1, W2, B1, B2)\n",
    "    wrong_images = []\n",
    "    for index, im in enumerate(images):\n",
    "        true_label = im[1]\n",
    "        if true_label != predictions[index]:\n",
    "            wrong_images.append(index)\n",
    "    return wrong_images"
   ]
  },
  {
   "cell_type": "code",
   "execution_count": 31,
   "metadata": {},
   "outputs": [
    {
     "data": {
      "text/plain": [
       "[8, 38]"
      ]
     },
     "execution_count": 31,
     "metadata": {},
     "output_type": "execute_result"
    }
   ],
   "source": [
    "find_wrong(test_data[0:100],W1,W2,B1,B2)"
   ]
  },
  {
   "cell_type": "markdown",
   "metadata": {},
   "source": [
    "#### In the first 100 images of the test data, the function classify incorrectly images at index 8, 38. For example, call the predict function on the image at index = 8. The algorithm thinks that the image at index = 8 is a 6 but it is actually a 5. Plot the image to see that you can forgive the algorithm for making this mistake. "
   ]
  },
  {
   "cell_type": "code",
   "execution_count": 32,
   "metadata": {
    "scrolled": true
   },
   "outputs": [
    {
     "name": "stdout",
     "output_type": "stream",
     "text": [
      "5\n"
     ]
    },
    {
     "data": {
      "text/plain": [
       "[6]"
      ]
     },
     "execution_count": 32,
     "metadata": {},
     "output_type": "execute_result"
    }
   ],
   "source": [
    "print(test_data[8][1])\n",
    "predict(test_data[8:9],W1,W2,B1,B2)"
   ]
  },
  {
   "cell_type": "code",
   "execution_count": 33,
   "metadata": {},
   "outputs": [
    {
     "data": {
      "image/png": "[encoded data removed]",
      "text/plain": [
       "<Figure size 432x288 with 1 Axes>"
      ]
     },
     "metadata": {
      "needs_background": "light"
     },
     "output_type": "display_data"
    }
   ],
   "source": [
    "plot_image(test_data[8][0])"
   ]
  },
  {
   "cell_type": "code",
   "execution_count": null,
   "metadata": {},
   "outputs": [],
   "source": []
  }
 ],
 "metadata": {
  "kernelspec": {
   "display_name": "Python 3",
   "language": "python",
   "name": "python3"
  },
  "language_info": {
   "codemirror_mode": {
    "name": "ipython",
    "version": 3
   },
   "file_extension": ".py",
   "mimetype": "text/x-python",
   "name": "python",
   "nbconvert_exporter": "python",
   "pygments_lexer": "ipython3",
   "version": "3.6.4"
  }
 },
 "nbformat": 4,
 "nbformat_minor": 2
}
