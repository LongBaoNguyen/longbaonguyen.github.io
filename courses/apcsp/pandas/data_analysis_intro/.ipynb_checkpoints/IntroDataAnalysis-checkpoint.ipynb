{
 "cells": [
  {
   "cell_type": "markdown",
   "id": "2ccae546",
   "metadata": {},
   "source": [
    "# Introduction to Data Analysis with the pandas library\n",
    "\n",
    "### In this lab, we'll use the pandas library to explore and perform some basic exploratory analysis on some tabular datasets: IMDB's Top 1000 movies, the Titanic dataset and an alcohol consumption dataset.\n"
   ]
  },
  {
   "cell_type": "code",
   "execution_count": null,
   "id": "c29f5420",
   "metadata": {},
   "outputs": [],
   "source": [
    "import numpy as np\n",
    "import pandas as pd\n",
    "import matplotlib.pyplot as plt"
   ]
  },
  {
   "cell_type": "markdown",
   "id": "69fed817",
   "metadata": {},
   "source": [
    "#### Use ```df = pd.read_csv(filename)``` to read in the dataset containing the top 1000 movies on IMDB(\"imdb_1000.csv\"). The variable df here is a dataframe object."
   ]
  },
  {
   "cell_type": "code",
   "execution_count": null,
   "id": "55285ec4",
   "metadata": {},
   "outputs": [],
   "source": []
  },
  {
   "cell_type": "markdown",
   "id": "6f6ba5c3",
   "metadata": {},
   "source": [
    "#### Call the head() function on the dataset to see the first five rows of the dataset. "
   ]
  },
  {
   "cell_type": "code",
   "execution_count": null,
   "id": "3b9a87ce",
   "metadata": {},
   "outputs": [],
   "source": []
  },
  {
   "cell_type": "markdown",
   "id": "67c64682",
   "metadata": {},
   "source": [
    "#### To access a column of a dataframe, we use the [] notation and specifying the column name as the index or \"key\" to the column. For example, output the title column: df[\"title\"]."
   ]
  },
  {
   "cell_type": "code",
   "execution_count": null,
   "id": "3f0912d4",
   "metadata": {},
   "outputs": [],
   "source": []
  },
  {
   "cell_type": "markdown",
   "id": "feae22b1",
   "metadata": {},
   "source": [
    "#### For categorical data like movies genre, the method value_counts() returns a column(Series) containing counts of unique values. Output to the value counts for the \"genre\" column to see which genre containing the highest count in the dataset."
   ]
  },
  {
   "cell_type": "code",
   "execution_count": null,
   "id": "4925746a",
   "metadata": {},
   "outputs": [],
   "source": []
  },
  {
   "cell_type": "markdown",
   "id": "12d93c30",
   "metadata": {},
   "source": [
    "#### Call value counts as above and immediately call plot(kind=\"bar) to plot the previous data as a bar graph. "
   ]
  },
  {
   "cell_type": "code",
   "execution_count": null,
   "id": "64653d5e",
   "metadata": {},
   "outputs": [],
   "source": []
  },
  {
   "cell_type": "markdown",
   "id": "6919bee0",
   "metadata": {},
   "source": [
    "#### Use .loc to search for movies whose rating is at least 8.5. Use:\n",
    "```python\n",
    "df.loc[boolean conditional filter]\n",
    "```\n",
    "#### where the boolean conditional filter is a boolean with the star_rating column satisfying >= 8.5."
   ]
  },
  {
   "cell_type": "code",
   "execution_count": null,
   "id": "c031be51",
   "metadata": {},
   "outputs": [],
   "source": []
  },
  {
   "cell_type": "markdown",
   "id": "6d71551e",
   "metadata": {},
   "source": [
    "#### Use ```df = pd.read_csv(filename)``` to read in the alcohol consumption data(\"drinks.csv\") and store the dataframe. "
   ]
  },
  {
   "cell_type": "code",
   "execution_count": null,
   "id": "3c9bc425",
   "metadata": {
    "scrolled": true
   },
   "outputs": [],
   "source": []
  },
  {
   "cell_type": "markdown",
   "id": "02ff851b",
   "metadata": {},
   "source": [
    "#### Call head() on the dataframe to output the top five rows of the dataframe."
   ]
  },
  {
   "cell_type": "code",
   "execution_count": null,
   "id": "2bf3a00f",
   "metadata": {
    "scrolled": false
   },
   "outputs": [],
   "source": []
  },
  {
   "cell_type": "markdown",
   "id": "ede039f0",
   "metadata": {},
   "source": [
    "#### Call describe() on the dataframe to see some general descriptive statistics. Notice some of the outliers, e.g., compare the maximum to the median. "
   ]
  },
  {
   "cell_type": "code",
   "execution_count": null,
   "id": "d2d77d81",
   "metadata": {},
   "outputs": [],
   "source": []
  },
  {
   "cell_type": "markdown",
   "id": "54147352",
   "metadata": {},
   "source": [
    "#### Which country drinks the most beer? spirits? wine?\n",
    "\n",
    "Hint: Use ```df.sort_values(by=\"column_name\", ascending=False)```"
   ]
  },
  {
   "cell_type": "code",
   "execution_count": null,
   "id": "51a5de1d",
   "metadata": {
    "scrolled": true
   },
   "outputs": [],
   "source": []
  },
  {
   "cell_type": "code",
   "execution_count": null,
   "id": "c7b2e629",
   "metadata": {},
   "outputs": [],
   "source": []
  },
  {
   "cell_type": "code",
   "execution_count": null,
   "id": "9101082c",
   "metadata": {},
   "outputs": [],
   "source": []
  },
  {
   "cell_type": "markdown",
   "id": "71860fbc",
   "metadata": {},
   "source": [
    "#### Which continent drinks the most beer? The least? Hint: Call groupby('continent') on the dataframe, then look at the mean of the \"beer_servings\" column. \n",
    "\n",
    "Hint: ```drinks.groupby('column_name_to_group')['column_to_mean'].mean()```"
   ]
  },
  {
   "cell_type": "code",
   "execution_count": null,
   "id": "b547668c",
   "metadata": {
    "scrolled": false
   },
   "outputs": [],
   "source": []
  },
  {
   "cell_type": "markdown",
   "id": "76cb92e1",
   "metadata": {},
   "source": [
    "#### Use the plot(kind=\"bar\") to plot the average beer consumption by continent. Same code as the previous cell but add the .plot(kind=\"bar\") call. "
   ]
  },
  {
   "cell_type": "code",
   "execution_count": null,
   "id": "f15e61dd",
   "metadata": {
    "scrolled": true
   },
   "outputs": [],
   "source": []
  },
  {
   "cell_type": "markdown",
   "id": "9b2d45d9",
   "metadata": {},
   "source": [
    "#### Since Europe has the highest consumption, apply a filter to only consider countries in Europe and call sort_values on \"beer_servings\". Which are the top three countries in Europe with the highest beer consumption?\n",
    "Hint: ```drinks.loc[boolean filter].sort_values(by='column_name', ascending=False)```"
   ]
  },
  {
   "cell_type": "code",
   "execution_count": null,
   "id": "256b178c",
   "metadata": {},
   "outputs": [],
   "source": []
  }
 ],
 "metadata": {
  "kernelspec": {
   "display_name": "Python 3 (ipykernel)",
   "language": "python",
   "name": "python3"
  },
  "language_info": {
   "codemirror_mode": {
    "name": "ipython",
    "version": 3
   },
   "file_extension": ".py",
   "mimetype": "text/x-python",
   "name": "python",
   "nbconvert_exporter": "python",
   "pygments_lexer": "ipython3",
   "version": "3.9.7"
  }
 },
 "nbformat": 4,
 "nbformat_minor": 5
}
