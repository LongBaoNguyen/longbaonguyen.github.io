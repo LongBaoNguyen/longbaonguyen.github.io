{
 "cells": [
  {
   "cell_type": "markdown",
   "id": "2ccae546",
   "metadata": {},
   "source": [
    "# Introduction to Data Analysis with the pandas library\n",
    "\n",
    "### In this lab, we'll use the pandas library to explore and perform some basic exploratory analysis on some tabular datasets: IMDB's Top 1000 movies, the Titanic dataset and an alcohol consumption dataset.\n"
   ]
  },
  {
   "cell_type": "code",
   "execution_count": 1,
   "id": "c29f5420",
   "metadata": {},
   "outputs": [],
   "source": [
    "import numpy as np\n",
    "import pandas as pd\n",
    "import matplotlib.pyplot as plt"
   ]
  },
  {
   "cell_type": "markdown",
   "id": "69fed817",
   "metadata": {},
   "source": [
    "#### Use ```df = pd.read_csv(filename)``` to read in the dataset containing the top 1000 movies on IMDB(\"imdb_1000.csv\"). The variable df here is a dataframe object."
   ]
  },
  {
   "cell_type": "code",
   "execution_count": 2,
   "id": "55285ec4",
   "metadata": {},
   "outputs": [],
   "source": [
    "df = pd.read_csv(\"imdb_1000.csv\")"
   ]
  },
  {
   "cell_type": "markdown",
   "id": "6f6ba5c3",
   "metadata": {},
   "source": [
    "#### Call the head() function on the dataset to see the first five rows of the dataset. "
   ]
  },
  {
   "cell_type": "code",
   "execution_count": 3,
   "id": "3b9a87ce",
   "metadata": {},
   "outputs": [
    {
     "data": {
      "text/html": [
       "<div>\n",
       "<style scoped>\n",
       "    .dataframe tbody tr th:only-of-type {\n",
       "        vertical-align: middle;\n",
       "    }\n",
       "\n",
       "    .dataframe tbody tr th {\n",
       "        vertical-align: top;\n",
       "    }\n",
       "\n",
       "    .dataframe thead th {\n",
       "        text-align: right;\n",
       "    }\n",
       "</style>\n",
       "<table border=\"1\" class=\"dataframe\">\n",
       "  <thead>\n",
       "    <tr style=\"text-align: right;\">\n",
       "      <th></th>\n",
       "      <th>star_rating</th>\n",
       "      <th>title</th>\n",
       "      <th>content_rating</th>\n",
       "      <th>genre</th>\n",
       "      <th>duration</th>\n",
       "      <th>actors_list</th>\n",
       "    </tr>\n",
       "  </thead>\n",
       "  <tbody>\n",
       "    <tr>\n",
       "      <th>0</th>\n",
       "      <td>9.3</td>\n",
       "      <td>The Shawshank Redemption</td>\n",
       "      <td>R</td>\n",
       "      <td>Crime</td>\n",
       "      <td>142</td>\n",
       "      <td>['Tim Robbins', 'Morgan Freeman', 'Bob Gunton']</td>\n",
       "    </tr>\n",
       "    <tr>\n",
       "      <th>1</th>\n",
       "      <td>9.2</td>\n",
       "      <td>The Godfather</td>\n",
       "      <td>R</td>\n",
       "      <td>Crime</td>\n",
       "      <td>175</td>\n",
       "      <td>['Marlon Brando', 'Al Pacino', 'James Caan']</td>\n",
       "    </tr>\n",
       "    <tr>\n",
       "      <th>2</th>\n",
       "      <td>9.1</td>\n",
       "      <td>The Godfather: Part II</td>\n",
       "      <td>R</td>\n",
       "      <td>Crime</td>\n",
       "      <td>200</td>\n",
       "      <td>['Al Pacino', 'Robert De Niro', 'Robert Duvall']</td>\n",
       "    </tr>\n",
       "    <tr>\n",
       "      <th>3</th>\n",
       "      <td>9.0</td>\n",
       "      <td>The Dark Knight</td>\n",
       "      <td>PG-13</td>\n",
       "      <td>Action</td>\n",
       "      <td>152</td>\n",
       "      <td>['Christian Bale', 'Heath Ledger', 'Aaron Eckh...</td>\n",
       "    </tr>\n",
       "    <tr>\n",
       "      <th>4</th>\n",
       "      <td>8.9</td>\n",
       "      <td>Pulp Fiction</td>\n",
       "      <td>R</td>\n",
       "      <td>Crime</td>\n",
       "      <td>154</td>\n",
       "      <td>['John Travolta', 'Uma Thurman', 'Samuel L. Ja...</td>\n",
       "    </tr>\n",
       "    <tr>\n",
       "      <th>...</th>\n",
       "      <td>...</td>\n",
       "      <td>...</td>\n",
       "      <td>...</td>\n",
       "      <td>...</td>\n",
       "      <td>...</td>\n",
       "      <td>...</td>\n",
       "    </tr>\n",
       "    <tr>\n",
       "      <th>974</th>\n",
       "      <td>7.4</td>\n",
       "      <td>Tootsie</td>\n",
       "      <td>PG</td>\n",
       "      <td>Comedy</td>\n",
       "      <td>116</td>\n",
       "      <td>['Dustin Hoffman', 'Jessica Lange', 'Teri Garr']</td>\n",
       "    </tr>\n",
       "    <tr>\n",
       "      <th>975</th>\n",
       "      <td>7.4</td>\n",
       "      <td>Back to the Future Part III</td>\n",
       "      <td>PG</td>\n",
       "      <td>Adventure</td>\n",
       "      <td>118</td>\n",
       "      <td>['Michael J. Fox', 'Christopher Lloyd', 'Mary ...</td>\n",
       "    </tr>\n",
       "    <tr>\n",
       "      <th>976</th>\n",
       "      <td>7.4</td>\n",
       "      <td>Master and Commander: The Far Side of the World</td>\n",
       "      <td>PG-13</td>\n",
       "      <td>Action</td>\n",
       "      <td>138</td>\n",
       "      <td>['Russell Crowe', 'Paul Bettany', 'Billy Boyd']</td>\n",
       "    </tr>\n",
       "    <tr>\n",
       "      <th>977</th>\n",
       "      <td>7.4</td>\n",
       "      <td>Poltergeist</td>\n",
       "      <td>PG</td>\n",
       "      <td>Horror</td>\n",
       "      <td>114</td>\n",
       "      <td>['JoBeth Williams', u\"Heather O'Rourke\", 'Crai...</td>\n",
       "    </tr>\n",
       "    <tr>\n",
       "      <th>978</th>\n",
       "      <td>7.4</td>\n",
       "      <td>Wall Street</td>\n",
       "      <td>R</td>\n",
       "      <td>Crime</td>\n",
       "      <td>126</td>\n",
       "      <td>['Charlie Sheen', 'Michael Douglas', 'Tamara T...</td>\n",
       "    </tr>\n",
       "  </tbody>\n",
       "</table>\n",
       "<p>979 rows × 6 columns</p>\n",
       "</div>"
      ],
      "text/plain": [
       "     star_rating                                            title  \\\n",
       "0            9.3                         The Shawshank Redemption   \n",
       "1            9.2                                    The Godfather   \n",
       "2            9.1                           The Godfather: Part II   \n",
       "3            9.0                                  The Dark Knight   \n",
       "4            8.9                                     Pulp Fiction   \n",
       "..           ...                                              ...   \n",
       "974          7.4                                          Tootsie   \n",
       "975          7.4                      Back to the Future Part III   \n",
       "976          7.4  Master and Commander: The Far Side of the World   \n",
       "977          7.4                                      Poltergeist   \n",
       "978          7.4                                      Wall Street   \n",
       "\n",
       "    content_rating      genre  duration  \\\n",
       "0                R      Crime       142   \n",
       "1                R      Crime       175   \n",
       "2                R      Crime       200   \n",
       "3            PG-13     Action       152   \n",
       "4                R      Crime       154   \n",
       "..             ...        ...       ...   \n",
       "974             PG     Comedy       116   \n",
       "975             PG  Adventure       118   \n",
       "976          PG-13     Action       138   \n",
       "977             PG     Horror       114   \n",
       "978              R      Crime       126   \n",
       "\n",
       "                                           actors_list  \n",
       "0      ['Tim Robbins', 'Morgan Freeman', 'Bob Gunton']  \n",
       "1         ['Marlon Brando', 'Al Pacino', 'James Caan']  \n",
       "2     ['Al Pacino', 'Robert De Niro', 'Robert Duvall']  \n",
       "3    ['Christian Bale', 'Heath Ledger', 'Aaron Eckh...  \n",
       "4    ['John Travolta', 'Uma Thurman', 'Samuel L. Ja...  \n",
       "..                                                 ...  \n",
       "974   ['Dustin Hoffman', 'Jessica Lange', 'Teri Garr']  \n",
       "975  ['Michael J. Fox', 'Christopher Lloyd', 'Mary ...  \n",
       "976    ['Russell Crowe', 'Paul Bettany', 'Billy Boyd']  \n",
       "977  ['JoBeth Williams', u\"Heather O'Rourke\", 'Crai...  \n",
       "978  ['Charlie Sheen', 'Michael Douglas', 'Tamara T...  \n",
       "\n",
       "[979 rows x 6 columns]"
      ]
     },
     "execution_count": 3,
     "metadata": {},
     "output_type": "execute_result"
    }
   ],
   "source": [
    "df"
   ]
  },
  {
   "cell_type": "markdown",
   "id": "67c64682",
   "metadata": {},
   "source": [
    "#### To access a column of a dataframe, we use the [] notation and specifying the column name as the index or \"key\" to the column. For example, output the title column: df[\"title\"]."
   ]
  },
  {
   "cell_type": "code",
   "execution_count": 4,
   "id": "3f0912d4",
   "metadata": {},
   "outputs": [
    {
     "data": {
      "text/plain": [
       "0          Crime\n",
       "1          Crime\n",
       "2          Crime\n",
       "3         Action\n",
       "4          Crime\n",
       "         ...    \n",
       "974       Comedy\n",
       "975    Adventure\n",
       "976       Action\n",
       "977       Horror\n",
       "978        Crime\n",
       "Name: genre, Length: 979, dtype: object"
      ]
     },
     "execution_count": 4,
     "metadata": {},
     "output_type": "execute_result"
    }
   ],
   "source": [
    "df[\"genre\"]"
   ]
  },
  {
   "cell_type": "markdown",
   "id": "feae22b1",
   "metadata": {},
   "source": [
    "#### For categorical data like movies genre, the method value_counts() returns a column(Series) containing counts of unique values. Output to the value counts for the \"genre\" column to see which genre containing the highest count in the dataset."
   ]
  },
  {
   "cell_type": "code",
   "execution_count": 5,
   "id": "4925746a",
   "metadata": {},
   "outputs": [
    {
     "data": {
      "text/plain": [
       "Drama        278\n",
       "Comedy       156\n",
       "Action       136\n",
       "Crime        124\n",
       "Biography     77\n",
       "Adventure     75\n",
       "Animation     62\n",
       "Horror        29\n",
       "Mystery       16\n",
       "Western        9\n",
       "Sci-Fi         5\n",
       "Thriller       5\n",
       "Film-Noir      3\n",
       "Family         2\n",
       "History        1\n",
       "Fantasy        1\n",
       "Name: genre, dtype: int64"
      ]
     },
     "execution_count": 5,
     "metadata": {},
     "output_type": "execute_result"
    }
   ],
   "source": [
    "df[\"genre\"].value_counts()"
   ]
  },
  {
   "cell_type": "markdown",
   "id": "12d93c30",
   "metadata": {},
   "source": [
    "#### Call value counts as above and immediately call plot(kind=\"bar) to plot the previous data as a bar graph. "
   ]
  },
  {
   "cell_type": "code",
   "execution_count": 6,
   "id": "64653d5e",
   "metadata": {},
   "outputs": [
    {
     "data": {
      "text/plain": [
       "<AxesSubplot:>"
      ]
     },
     "execution_count": 6,
     "metadata": {},
     "output_type": "execute_result"
    },
    {
     "data": {
      "image/png": "[encoded data removed]",
      "text/plain": [
       "<Figure size 432x288 with 1 Axes>"
      ]
     },
     "metadata": {
      "needs_background": "light"
     },
     "output_type": "display_data"
    }
   ],
   "source": [
    "df[\"genre\"].value_counts().plot(kind=\"bar\")"
   ]
  },
  {
   "cell_type": "markdown",
   "id": "6919bee0",
   "metadata": {},
   "source": [
    "#### Use .loc to search for movies whose rating is at least 8.5. Use:\n",
    "```python\n",
    "df.loc[boolean conditional filter]\n",
    "```\n",
    "#### where the boolean conditional filter is a boolean with the star_rating column satisfying >= 8.5."
   ]
  },
  {
   "cell_type": "code",
   "execution_count": 7,
   "id": "c031be51",
   "metadata": {},
   "outputs": [
    {
     "data": {
      "text/html": [
       "<div>\n",
       "<style scoped>\n",
       "    .dataframe tbody tr th:only-of-type {\n",
       "        vertical-align: middle;\n",
       "    }\n",
       "\n",
       "    .dataframe tbody tr th {\n",
       "        vertical-align: top;\n",
       "    }\n",
       "\n",
       "    .dataframe thead th {\n",
       "        text-align: right;\n",
       "    }\n",
       "</style>\n",
       "<table border=\"1\" class=\"dataframe\">\n",
       "  <thead>\n",
       "    <tr style=\"text-align: right;\">\n",
       "      <th></th>\n",
       "      <th>star_rating</th>\n",
       "      <th>title</th>\n",
       "      <th>content_rating</th>\n",
       "      <th>genre</th>\n",
       "      <th>duration</th>\n",
       "      <th>actors_list</th>\n",
       "    </tr>\n",
       "  </thead>\n",
       "  <tbody>\n",
       "    <tr>\n",
       "      <th>0</th>\n",
       "      <td>9.3</td>\n",
       "      <td>The Shawshank Redemption</td>\n",
       "      <td>R</td>\n",
       "      <td>Crime</td>\n",
       "      <td>142</td>\n",
       "      <td>['Tim Robbins', 'Morgan Freeman', 'Bob Gunton']</td>\n",
       "    </tr>\n",
       "    <tr>\n",
       "      <th>1</th>\n",
       "      <td>9.2</td>\n",
       "      <td>The Godfather</td>\n",
       "      <td>R</td>\n",
       "      <td>Crime</td>\n",
       "      <td>175</td>\n",
       "      <td>['Marlon Brando', 'Al Pacino', 'James Caan']</td>\n",
       "    </tr>\n",
       "    <tr>\n",
       "      <th>2</th>\n",
       "      <td>9.1</td>\n",
       "      <td>The Godfather: Part II</td>\n",
       "      <td>R</td>\n",
       "      <td>Crime</td>\n",
       "      <td>200</td>\n",
       "      <td>['Al Pacino', 'Robert De Niro', 'Robert Duvall']</td>\n",
       "    </tr>\n",
       "    <tr>\n",
       "      <th>3</th>\n",
       "      <td>9.0</td>\n",
       "      <td>The Dark Knight</td>\n",
       "      <td>PG-13</td>\n",
       "      <td>Action</td>\n",
       "      <td>152</td>\n",
       "      <td>['Christian Bale', 'Heath Ledger', 'Aaron Eckh...</td>\n",
       "    </tr>\n",
       "    <tr>\n",
       "      <th>4</th>\n",
       "      <td>8.9</td>\n",
       "      <td>Pulp Fiction</td>\n",
       "      <td>R</td>\n",
       "      <td>Crime</td>\n",
       "      <td>154</td>\n",
       "      <td>['John Travolta', 'Uma Thurman', 'Samuel L. Ja...</td>\n",
       "    </tr>\n",
       "    <tr>\n",
       "      <th>5</th>\n",
       "      <td>8.9</td>\n",
       "      <td>12 Angry Men</td>\n",
       "      <td>NOT RATED</td>\n",
       "      <td>Drama</td>\n",
       "      <td>96</td>\n",
       "      <td>['Henry Fonda', 'Lee J. Cobb', 'Martin Balsam']</td>\n",
       "    </tr>\n",
       "    <tr>\n",
       "      <th>6</th>\n",
       "      <td>8.9</td>\n",
       "      <td>The Good, the Bad and the Ugly</td>\n",
       "      <td>NOT RATED</td>\n",
       "      <td>Western</td>\n",
       "      <td>161</td>\n",
       "      <td>['Clint Eastwood', 'Eli Wallach', 'Lee Van Cle...</td>\n",
       "    </tr>\n",
       "    <tr>\n",
       "      <th>7</th>\n",
       "      <td>8.9</td>\n",
       "      <td>The Lord of the Rings: The Return of the King</td>\n",
       "      <td>PG-13</td>\n",
       "      <td>Adventure</td>\n",
       "      <td>201</td>\n",
       "      <td>['Elijah Wood', 'Viggo Mortensen', 'Ian McKell...</td>\n",
       "    </tr>\n",
       "    <tr>\n",
       "      <th>8</th>\n",
       "      <td>8.9</td>\n",
       "      <td>Schindler's List</td>\n",
       "      <td>R</td>\n",
       "      <td>Biography</td>\n",
       "      <td>195</td>\n",
       "      <td>['Liam Neeson', 'Ralph Fiennes', 'Ben Kingsley']</td>\n",
       "    </tr>\n",
       "    <tr>\n",
       "      <th>9</th>\n",
       "      <td>8.9</td>\n",
       "      <td>Fight Club</td>\n",
       "      <td>R</td>\n",
       "      <td>Drama</td>\n",
       "      <td>139</td>\n",
       "      <td>['Brad Pitt', 'Edward Norton', 'Helena Bonham ...</td>\n",
       "    </tr>\n",
       "    <tr>\n",
       "      <th>10</th>\n",
       "      <td>8.8</td>\n",
       "      <td>The Lord of the Rings: The Fellowship of the Ring</td>\n",
       "      <td>PG-13</td>\n",
       "      <td>Adventure</td>\n",
       "      <td>178</td>\n",
       "      <td>['Elijah Wood', 'Ian McKellen', 'Orlando Bloom']</td>\n",
       "    </tr>\n",
       "    <tr>\n",
       "      <th>11</th>\n",
       "      <td>8.8</td>\n",
       "      <td>Inception</td>\n",
       "      <td>PG-13</td>\n",
       "      <td>Action</td>\n",
       "      <td>148</td>\n",
       "      <td>['Leonardo DiCaprio', 'Joseph Gordon-Levitt', ...</td>\n",
       "    </tr>\n",
       "    <tr>\n",
       "      <th>12</th>\n",
       "      <td>8.8</td>\n",
       "      <td>Star Wars: Episode V - The Empire Strikes Back</td>\n",
       "      <td>PG</td>\n",
       "      <td>Action</td>\n",
       "      <td>124</td>\n",
       "      <td>['Mark Hamill', 'Harrison Ford', 'Carrie Fisher']</td>\n",
       "    </tr>\n",
       "    <tr>\n",
       "      <th>13</th>\n",
       "      <td>8.8</td>\n",
       "      <td>Forrest Gump</td>\n",
       "      <td>PG-13</td>\n",
       "      <td>Drama</td>\n",
       "      <td>142</td>\n",
       "      <td>['Tom Hanks', 'Robin Wright', 'Gary Sinise']</td>\n",
       "    </tr>\n",
       "    <tr>\n",
       "      <th>14</th>\n",
       "      <td>8.8</td>\n",
       "      <td>The Lord of the Rings: The Two Towers</td>\n",
       "      <td>PG-13</td>\n",
       "      <td>Adventure</td>\n",
       "      <td>179</td>\n",
       "      <td>['Elijah Wood', 'Ian McKellen', 'Viggo Mortens...</td>\n",
       "    </tr>\n",
       "  </tbody>\n",
       "</table>\n",
       "</div>"
      ],
      "text/plain": [
       "    star_rating                                              title  \\\n",
       "0           9.3                           The Shawshank Redemption   \n",
       "1           9.2                                      The Godfather   \n",
       "2           9.1                             The Godfather: Part II   \n",
       "3           9.0                                    The Dark Knight   \n",
       "4           8.9                                       Pulp Fiction   \n",
       "5           8.9                                       12 Angry Men   \n",
       "6           8.9                     The Good, the Bad and the Ugly   \n",
       "7           8.9      The Lord of the Rings: The Return of the King   \n",
       "8           8.9                                   Schindler's List   \n",
       "9           8.9                                         Fight Club   \n",
       "10          8.8  The Lord of the Rings: The Fellowship of the Ring   \n",
       "11          8.8                                          Inception   \n",
       "12          8.8     Star Wars: Episode V - The Empire Strikes Back   \n",
       "13          8.8                                       Forrest Gump   \n",
       "14          8.8              The Lord of the Rings: The Two Towers   \n",
       "\n",
       "   content_rating      genre  duration  \\\n",
       "0               R      Crime       142   \n",
       "1               R      Crime       175   \n",
       "2               R      Crime       200   \n",
       "3           PG-13     Action       152   \n",
       "4               R      Crime       154   \n",
       "5       NOT RATED      Drama        96   \n",
       "6       NOT RATED    Western       161   \n",
       "7           PG-13  Adventure       201   \n",
       "8               R  Biography       195   \n",
       "9               R      Drama       139   \n",
       "10          PG-13  Adventure       178   \n",
       "11          PG-13     Action       148   \n",
       "12             PG     Action       124   \n",
       "13          PG-13      Drama       142   \n",
       "14          PG-13  Adventure       179   \n",
       "\n",
       "                                          actors_list  \n",
       "0     ['Tim Robbins', 'Morgan Freeman', 'Bob Gunton']  \n",
       "1        ['Marlon Brando', 'Al Pacino', 'James Caan']  \n",
       "2    ['Al Pacino', 'Robert De Niro', 'Robert Duvall']  \n",
       "3   ['Christian Bale', 'Heath Ledger', 'Aaron Eckh...  \n",
       "4   ['John Travolta', 'Uma Thurman', 'Samuel L. Ja...  \n",
       "5     ['Henry Fonda', 'Lee J. Cobb', 'Martin Balsam']  \n",
       "6   ['Clint Eastwood', 'Eli Wallach', 'Lee Van Cle...  \n",
       "7   ['Elijah Wood', 'Viggo Mortensen', 'Ian McKell...  \n",
       "8    ['Liam Neeson', 'Ralph Fiennes', 'Ben Kingsley']  \n",
       "9   ['Brad Pitt', 'Edward Norton', 'Helena Bonham ...  \n",
       "10   ['Elijah Wood', 'Ian McKellen', 'Orlando Bloom']  \n",
       "11  ['Leonardo DiCaprio', 'Joseph Gordon-Levitt', ...  \n",
       "12  ['Mark Hamill', 'Harrison Ford', 'Carrie Fisher']  \n",
       "13       ['Tom Hanks', 'Robin Wright', 'Gary Sinise']  \n",
       "14  ['Elijah Wood', 'Ian McKellen', 'Viggo Mortens...  "
      ]
     },
     "execution_count": 7,
     "metadata": {},
     "output_type": "execute_result"
    }
   ],
   "source": [
    "df.loc[df[\"star_rating\"] >= 8.8]"
   ]
  },
  {
   "cell_type": "code",
   "execution_count": null,
   "id": "85cc0afb",
   "metadata": {},
   "outputs": [],
   "source": [
    "df.loc[df[\"genre\"] == \"Action\"]"
   ]
  },
  {
   "cell_type": "markdown",
   "id": "6d71551e",
   "metadata": {},
   "source": [
    "#### Use ```df = pd.read_csv(filename)``` to read in the alcohol consumption data(\"drinks.csv\") and store the dataframe. "
   ]
  },
  {
   "cell_type": "code",
   "execution_count": null,
   "id": "3c9bc425",
   "metadata": {
    "scrolled": true
   },
   "outputs": [],
   "source": [
    "drinks = pd.read_csv(\"drinks.csv\")"
   ]
  },
  {
   "cell_type": "markdown",
   "id": "02ff851b",
   "metadata": {},
   "source": [
    "#### Call head() on the dataframe to output the top five rows of the dataframe."
   ]
  },
  {
   "cell_type": "code",
   "execution_count": null,
   "id": "2bf3a00f",
   "metadata": {},
   "outputs": [],
   "source": [
    "drinks.head()"
   ]
  },
  {
   "cell_type": "markdown",
   "id": "ede039f0",
   "metadata": {},
   "source": [
    "#### Call describe() on the dataframe to see some general descriptive statistics. Notice some of the outliers, e.g., compare the maximum to the median. "
   ]
  },
  {
   "cell_type": "code",
   "execution_count": null,
   "id": "d2d77d81",
   "metadata": {},
   "outputs": [],
   "source": [
    "drinks.describe()"
   ]
  },
  {
   "cell_type": "markdown",
   "id": "54147352",
   "metadata": {},
   "source": [
    "#### Which country drinks the most beer? spirits? wine?\n",
    "\n",
    "Hint: Use ```df.sort_values(by=\"column_name\", ascending=False)```"
   ]
  },
  {
   "cell_type": "code",
   "execution_count": null,
   "id": "41bb8fd9",
   "metadata": {},
   "outputs": [],
   "source": [
    "drinks.sort_values(by=\"beer_servings\", ascending=False)"
   ]
  },
  {
   "cell_type": "code",
   "execution_count": null,
   "id": "c6d97875",
   "metadata": {
    "scrolled": true
   },
   "outputs": [],
   "source": [
    "drinks.sort_values(by=\"beer_servings\", ascending=False)"
   ]
  },
  {
   "cell_type": "code",
   "execution_count": null,
   "id": "54df6b22",
   "metadata": {},
   "outputs": [],
   "source": [
    "drinks.sort_values(by=\"wine_servings\", ascending=False)"
   ]
  },
  {
   "cell_type": "markdown",
   "id": "71860fbc",
   "metadata": {},
   "source": [
    "#### Which continent drinks the most beer? The least? Hint: Call groupby('continent') on the dataframe, then look at the mean of the \"beer_servings\" column. \n",
    "\n",
    "Hint: ```drinks.groupby('column_name_to_group')['column_to_mean'].mean()```"
   ]
  },
  {
   "cell_type": "code",
   "execution_count": null,
   "id": "b547668c",
   "metadata": {},
   "outputs": [],
   "source": [
    "drinks.groupby(\"continent\")[\"beer_servings\"].mean()"
   ]
  },
  {
   "cell_type": "markdown",
   "id": "76cb92e1",
   "metadata": {},
   "source": [
    "#### Use the plot(kind=\"bar\") to plot the average beer consumption by continent. Same code as the previous cell but add the .plot(kind=\"bar\") call. "
   ]
  },
  {
   "cell_type": "code",
   "execution_count": null,
   "id": "f15e61dd",
   "metadata": {
    "scrolled": true
   },
   "outputs": [],
   "source": [
    "drinks.groupby(\"continent\")[\"beer_servings\"].mean().plot(kind=\"bar\")"
   ]
  },
  {
   "cell_type": "markdown",
   "id": "9b2d45d9",
   "metadata": {},
   "source": [
    "#### Since Europe has the highest consumption, apply a filter to only consider countries in Europe and call sort_values on \"beer_servings\". Which are the top three countries in Europe with the highest beer consumption?\n",
    "Hint: ```drinks.loc[boolean filter].sort_values(by='column_name', ascending=False)```"
   ]
  },
  {
   "cell_type": "code",
   "execution_count": null,
   "id": "256b178c",
   "metadata": {},
   "outputs": [],
   "source": [
    "drinks.loc[drinks[\"continent\"]==\"Europe\"].sort_values(by=\"beer_servings\", ascending=False)"
   ]
  },
  {
   "cell_type": "code",
   "execution_count": null,
   "id": "04860abb",
   "metadata": {},
   "outputs": [],
   "source": []
  }
 ],
 "metadata": {
  "kernelspec": {
   "display_name": "Python 3 (ipykernel)",
   "language": "python",
   "name": "python3"
  },
  "language_info": {
   "codemirror_mode": {
    "name": "ipython",
    "version": 3
   },
   "file_extension": ".py",
   "mimetype": "text/x-python",
   "name": "python",
   "nbconvert_exporter": "python",
   "pygments_lexer": "ipython3",
   "version": "3.12.4"
  }
 },
 "nbformat": 4,
 "nbformat_minor": 5
}
