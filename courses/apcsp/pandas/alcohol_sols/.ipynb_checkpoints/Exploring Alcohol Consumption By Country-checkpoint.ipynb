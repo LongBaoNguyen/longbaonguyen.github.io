{
 "cells": [
  {
   "cell_type": "markdown",
   "id": "2ccae546",
   "metadata": {},
   "source": [
    "# Introduction to the pandas library\n",
    "\n",
    "### The \"drinks.csv\" file contains data on average alcohol consumption by country among those 15 and older, in 2010, separately by beverage type. Values provided are the average number of servings in three categories (beer, wine, and spirits). \n",
    "\n",
    "### Note: I also included the \"imdb_1000.csv\" and \"titanic_train.csv\" files in this lab if you like to explore some of the analysis shown in the lecture slides. \n"
   ]
  },
  {
   "cell_type": "code",
   "execution_count": null,
   "id": "c29f5420",
   "metadata": {},
   "outputs": [],
   "source": [
    "import numpy as np\n",
    "import pandas as pd"
   ]
  },
  {
   "cell_type": "markdown",
   "id": "4bd92c2d",
   "metadata": {},
   "source": [
    "#### Use ```df = pd.read_csv(filename)``` to read in the alcohol consumption data(\"drinks.csv\") and store the dataframe. "
   ]
  },
  {
   "cell_type": "code",
   "execution_count": null,
   "id": "5f7e8a81",
   "metadata": {
    "scrolled": true
   },
   "outputs": [],
   "source": []
  },
  {
   "cell_type": "markdown",
   "id": "986192eb",
   "metadata": {},
   "source": [
    "#### Call head() on the dataframe to output the top five rows of the dataframe."
   ]
  },
  {
   "cell_type": "code",
   "execution_count": null,
   "id": "88a148f3",
   "metadata": {
    "scrolled": false
   },
   "outputs": [],
   "source": []
  },
  {
   "cell_type": "markdown",
   "id": "0d37f83f",
   "metadata": {},
   "source": [
    "#### Call describe() on the dataframe to see some general descriptive statistics. Notice some of the outliers, e.g., compare the maximum to the median. "
   ]
  },
  {
   "cell_type": "code",
   "execution_count": null,
   "id": "928e434a",
   "metadata": {},
   "outputs": [],
   "source": []
  },
  {
   "cell_type": "markdown",
   "id": "95e646cd",
   "metadata": {},
   "source": [
    "#### Which country drinks the most beer? spirits? wine?\n",
    "\n",
    "Hint: Use ```df.sort_values(by=\"column_name\", ascending=False)```"
   ]
  },
  {
   "cell_type": "code",
   "execution_count": null,
   "id": "fad2b38c",
   "metadata": {
    "scrolled": true
   },
   "outputs": [],
   "source": []
  },
  {
   "cell_type": "markdown",
   "id": "89ed15d2",
   "metadata": {},
   "source": [
    "#### Which continent drinks the most beer? The least? Hint: Call groupby('continent') on the dataframe, then look at the mean of the \"beer_servings\" column. "
   ]
  },
  {
   "cell_type": "code",
   "execution_count": null,
   "id": "b547668c",
   "metadata": {
    "scrolled": false
   },
   "outputs": [],
   "source": []
  },
  {
   "cell_type": "markdown",
   "id": "cc765f4e",
   "metadata": {},
   "source": [
    "#### Use the plot(kind=\"bar\") to plot the average beer consumption by continent. Same code as the previous cell but add the .plot(kind=\"bar\") call. "
   ]
  },
  {
   "cell_type": "code",
   "execution_count": null,
   "id": "f15e61dd",
   "metadata": {
    "scrolled": true
   },
   "outputs": [],
   "source": []
  },
  {
   "cell_type": "markdown",
   "id": "6adf6d8e",
   "metadata": {},
   "source": [
    "#### Since Europe has the highest consumption, apply a filter to only consider countries in Europe and call sort_values on \"beer_servings\". Which are the top three countries in Europe with the highest beer consumption?"
   ]
  },
  {
   "cell_type": "code",
   "execution_count": null,
   "id": "7f26f797",
   "metadata": {},
   "outputs": [],
   "source": []
  }
 ],
 "metadata": {
  "kernelspec": {
   "display_name": "Python 3 (ipykernel)",
   "language": "python",
   "name": "python3"
  },
  "language_info": {
   "codemirror_mode": {
    "name": "ipython",
    "version": 3
   },
   "file_extension": ".py",
   "mimetype": "text/x-python",
   "name": "python",
   "nbconvert_exporter": "python",
   "pygments_lexer": "ipython3",
   "version": "3.9.7"
  }
 },
 "nbformat": 4,
 "nbformat_minor": 5
}
