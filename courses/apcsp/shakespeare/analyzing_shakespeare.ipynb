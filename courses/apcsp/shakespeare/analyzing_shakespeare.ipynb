{
 "cells": [
  {
   "cell_type": "markdown",
   "metadata": {},
   "source": [
    "# Text Processing: Analyzing The Works of Shakespeare"
   ]
  },
  {
   "cell_type": "markdown",
   "metadata": {},
   "source": [
    "### In this notebook, we will analyze word frequency of all of the works of Shakespeare!\n",
    "\n",
    "#### We will:\n",
    "#### - We will read all of Shakespeare's works from a text file\n",
    "#### - Do a word frequency analysis: total word counts and total unique words\n",
    "#### - Compute the total 30 most frequently used words in Shakespeare's works not including glue words or stop words such as \"the\" and \"and\", etc...\n",
    "\n"
   ]
  },
  {
   "cell_type": "markdown",
   "metadata": {},
   "source": [
    "To read a file, we use a context manager. The most widely used context manager is the `with` statement. Use the following code to open the attached file \"shakespeare.txt\":\n",
    "\n",
    "```python\n",
    "with open(filename, \"r\") as f:\n",
    "    txt = file.read()\n",
    "```\n",
    "### The above code reads in the entire works of Shakespeare! This code can read in a file of any size! The only limitation is the RAM on your computer. For example, we can read in the entire Wikipedia this way!"
   ]
  },
  {
   "cell_type": "code",
   "execution_count": null,
   "metadata": {},
   "outputs": [],
   "source": []
  },
  {
   "cell_type": "markdown",
   "metadata": {},
   "source": [
    "### Use the `type()` function to determine the type of txt. "
   ]
  },
  {
   "cell_type": "code",
   "execution_count": null,
   "metadata": {},
   "outputs": [],
   "source": []
  },
  {
   "cell_type": "markdown",
   "metadata": {},
   "source": [
    "### Use slicing to **OUTPUT** the first 500 characters. (From the play Corialanus)\n",
    "\n",
    "### Notice the newline \\n character. Now print the string. "
   ]
  },
  {
   "cell_type": "code",
   "execution_count": null,
   "metadata": {},
   "outputs": [],
   "source": []
  },
  {
   "cell_type": "code",
   "execution_count": null,
   "metadata": {},
   "outputs": [],
   "source": [
    "print(text[:500])"
   ]
  },
  {
   "cell_type": "code",
   "execution_count": null,
   "metadata": {},
   "outputs": [],
   "source": []
  },
  {
   "cell_type": "markdown",
   "metadata": {},
   "source": [
    "### Find the text of a famous Shakespeare's line."
   ]
  },
  {
   "cell_type": "code",
   "execution_count": null,
   "metadata": {},
   "outputs": [],
   "source": []
  },
  {
   "cell_type": "markdown",
   "metadata": {},
   "source": [
    "### You may run into some difficulties with the previous problem. This is because the text you're looking for need to match exactly with Shakespeare's text, including punctuation and capitalization. Let's normalize the text by lower casing the entire text and removing all punctuation including newline characters.\n",
    "\n",
    "### Do this by defining a function `remove_punctuation` which accepts a string of text and returns the string with all punctuations and new line characters removed. "
   ]
  },
  {
   "cell_type": "code",
   "execution_count": null,
   "metadata": {},
   "outputs": [],
   "source": [
    "def remove_punctuation(text):\n",
    "    \"\"\"Convert text to lower case. Use the function replace(replacedtext,newtext) to \n",
    "    remove \\n and punctuations from text: punc = [\".\",\":\",\",\",\";\",\"'\",'\"', \"!\",\"?\"]\n",
    "    Then return text.\"\"\"\n",
    "    \n",
    "    # lower text\n",
    "    \n",
    "    # replace \\n with a SPACE\n",
    "    \n",
    "    # loop through punc and replace each punctuation with empty string \"\"\n",
    "    \n",
    "    \n",
    "    # remember to return the text!\n",
    "    \n",
    "    \n",
    "    "
   ]
  },
  {
   "cell_type": "code",
   "execution_count": null,
   "metadata": {
    "scrolled": true
   },
   "outputs": [],
   "source": []
  },
  {
   "cell_type": "markdown",
   "metadata": {},
   "source": [
    "### Test your remove_punctuation function on small text sample. "
   ]
  },
  {
   "cell_type": "code",
   "execution_count": null,
   "metadata": {},
   "outputs": [],
   "source": []
  },
  {
   "cell_type": "markdown",
   "metadata": {},
   "source": [
    "### Call remove_punctuation on the Shakespeare text. Now find your famous Shakespeare's quote. Print out approximately 300 characters after your quote. "
   ]
  },
  {
   "cell_type": "code",
   "execution_count": null,
   "metadata": {},
   "outputs": [],
   "source": []
  },
  {
   "cell_type": "markdown",
   "metadata": {},
   "source": [
    "### Compute the total number of characters of all of the works of Shakespeare."
   ]
  },
  {
   "cell_type": "code",
   "execution_count": null,
   "metadata": {
    "scrolled": true
   },
   "outputs": [],
   "source": []
  },
  {
   "cell_type": "markdown",
   "metadata": {},
   "source": [
    "### Approximately how many words are there in the entire works of Shakespeare?"
   ]
  },
  {
   "cell_type": "code",
   "execution_count": null,
   "metadata": {},
   "outputs": [],
   "source": []
  },
  {
   "cell_type": "markdown",
   "metadata": {},
   "source": [
    "### The string function split() returns a list of all words from a string. split() by default splits on white spaces. Write function frequency below. The function takes an input string text and returns a dictionary whose keys are the words and values are the word counts.\n",
    "\n",
    "### For example frequency(\"baa baa black sheep\") returns the dictionary {\"baa\":2, \"black\":1, sheep:1}."
   ]
  },
  {
   "cell_type": "code",
   "execution_count": null,
   "metadata": {},
   "outputs": [],
   "source": [
    "def frequency(text):\n",
    "    \"\"\"Returns dictionary of word:counts key-value pairs.\"\"\"\n",
    "    "
   ]
  },
  {
   "cell_type": "markdown",
   "metadata": {},
   "source": [
    "### Test your frequency function on small text sample. "
   ]
  },
  {
   "cell_type": "code",
   "execution_count": null,
   "metadata": {},
   "outputs": [],
   "source": []
  },
  {
   "cell_type": "markdown",
   "metadata": {},
   "source": [
    "### Write the function text_stats which accepts a string input and returns a tuple of (total words, total unique words). Hint: Call the remove_punctuation and frequency functions above. Use sum()."
   ]
  },
  {
   "cell_type": "code",
   "execution_count": null,
   "metadata": {},
   "outputs": [],
   "source": [
    "def text_stats(text):\n",
    "    \"\"\"Given a text, returns the total words and total unique words.\n",
    "    Remember to call remove_punctuation and frequency above.\"\"\"\n",
    "    pass"
   ]
  },
  {
   "cell_type": "markdown",
   "metadata": {},
   "source": [
    "### Test your text_stats function on small text sample. "
   ]
  },
  {
   "cell_type": "code",
   "execution_count": null,
   "metadata": {},
   "outputs": [],
   "source": []
  },
  {
   "cell_type": "markdown",
   "metadata": {},
   "source": [
    "### Now call text_stats on Shakespeare's text. How many unique words are there in all of his works?"
   ]
  },
  {
   "cell_type": "code",
   "execution_count": null,
   "metadata": {},
   "outputs": [],
   "source": []
  },
  {
   "cell_type": "markdown",
   "metadata": {},
   "source": [
    "### There is already an object called Counter from the collections module which returns dictionary object equivalent to the the function `frequency` implemented above. \n",
    "\n",
    "### Here's how to create a Counter object. \n",
    "\n",
    "```python\n",
    "from collections import Counter\n",
    "\n",
    "text = remove_punctuation(text)\n",
    "counter = Counter(text.split())\n",
    "```\n",
    "\n",
    "\n",
    "### Use == to check that the Counter object is equivalent to the dictionary object returned by the frequency function above.\n"
   ]
  },
  {
   "cell_type": "code",
   "execution_count": null,
   "metadata": {},
   "outputs": [],
   "source": [
    "from collections import Counter\n",
    "\n",
    "# the function frequency we implement above have already been implemented\n",
    "# in the Counter class. Counter has a nice function most_common\n",
    "# that returns the most common occurring words in a text. \n"
   ]
  },
  {
   "cell_type": "markdown",
   "metadata": {},
   "source": [
    "\n",
    "### Counter has a nice method called `most_common` which accepts an integer n and returns the n most common occurring words. Call most_common to see the top 20 most occuring words in all of Shakespeare's works."
   ]
  },
  {
   "cell_type": "code",
   "execution_count": null,
   "metadata": {},
   "outputs": [],
   "source": []
  },
  {
   "cell_type": "markdown",
   "metadata": {},
   "source": [
    "### The above words are high frequency words but do not contribute to the content of the text. These are called glue words or [stop words](https://en.wikipedia.org/wiki/Stop_words). In Google searches for example, Google matches articles or sites to searches by ignoring these stop words as they do not contribute to the content of those articles/sites.\n",
    "\n",
    "### Follow the comment below to complete to read in a tab separated file of stop words and add those words to a list. "
   ]
  },
  {
   "cell_type": "code",
   "execution_count": null,
   "metadata": {
    "scrolled": true
   },
   "outputs": [],
   "source": [
    "with open(\"stopwords.txt\", 'r') as file:\n",
    "    # create an empty list\n",
    "\n",
    "    \n",
    "    # loop through each line of r(line is a str of words separated by tabs('\\t'))\n",
    "    # loop through each word of line\n",
    "    # apppend word to list, don't forget to call strip() to strip away new line character \n",
    "    # at the end of each line as well as any leading/trailing spaces\n",
    "    \n"
   ]
  },
  {
   "cell_type": "markdown",
   "metadata": {},
   "source": [
    "### Finally, loop through each word in the list created above and remove from the counter. The counter(subclass of a dictionary) object has a pop(key) function which removes an entry given its key. "
   ]
  },
  {
   "cell_type": "code",
   "execution_count": null,
   "metadata": {},
   "outputs": [],
   "source": [
    " "
   ]
  },
  {
   "cell_type": "markdown",
   "metadata": {},
   "source": [
    "### Now print out the list of the top 30 words in all of Shakespeare's works. "
   ]
  },
  {
   "cell_type": "code",
   "execution_count": null,
   "metadata": {},
   "outputs": [],
   "source": []
  }
 ],
 "metadata": {
  "kernelspec": {
   "display_name": "Python 3",
   "language": "python",
   "name": "python3"
  },
  "language_info": {
   "codemirror_mode": {
    "name": "ipython",
    "version": 3
   },
   "file_extension": ".py",
   "mimetype": "text/x-python",
   "name": "python",
   "nbconvert_exporter": "python",
   "pygments_lexer": "ipython3",
   "version": "3.6.4"
  }
 },
 "nbformat": 4,
 "nbformat_minor": 2
}
