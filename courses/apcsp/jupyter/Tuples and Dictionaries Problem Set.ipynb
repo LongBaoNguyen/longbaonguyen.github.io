{
 "cells": [
  {
   "cell_type": "markdown",
   "metadata": {},
   "source": [
    "## Tuples, 2D Lists and Dictionaries Problem Set\n",
    "\n",
    "Write code to complete the following problems. "
   ]
  },
  {
   "cell_type": "markdown",
   "metadata": {},
   "source": [
    "#### Create a list of tuples containing 4 names(str) and salaries(float). Two of your examples should have salaries above 80000.\n"
   ]
  },
  {
   "cell_type": "code",
   "execution_count": 1,
   "metadata": {},
   "outputs": [],
   "source": [
    "emps = [(\"Mike\",40000.0),(\"Sarah\",80000.0),(\"John\",55000.0),(\"Tim\",60000.0)]"
   ]
  },
  {
   "cell_type": "markdown",
   "metadata": {},
   "source": [
    "#### Use a for loop and tuple unpacking to print out the above list. "
   ]
  },
  {
   "cell_type": "code",
   "execution_count": 2,
   "metadata": {},
   "outputs": [
    {
     "name": "stdout",
     "output_type": "stream",
     "text": [
      "Mike 40000.0\n",
      "Sarah 80000.0\n",
      "John 55000.0\n",
      "Tim 60000.0\n"
     ]
    }
   ],
   "source": [
    "for name, salary in emps:\n",
    "    print(name, salary)"
   ]
  },
  {
   "cell_type": "markdown",
   "metadata": {},
   "source": [
    "#### Use a for loop and `enumerate()` to print out the list with label starting at 1. Use [] to access values in the tuples. For example:\n",
    "1) Mike Smith 75000\n",
    "\n",
    "2) Sarah Jones 80000\n",
    "\n",
    "etc.."
   ]
  },
  {
   "cell_type": "code",
   "execution_count": 3,
   "metadata": {},
   "outputs": [
    {
     "name": "stdout",
     "output_type": "stream",
     "text": [
      "1 Mike 40000.0\n",
      "2 Sarah 80000.0\n",
      "3 John 55000.0\n",
      "4 Tim 60000.0\n"
     ]
    }
   ],
   "source": [
    "for index, value in enumerate(emps):\n",
    "    name, salary = value\n",
    "    print(index + 1, name, salary)\n",
    "    "
   ]
  },
  {
   "cell_type": "markdown",
   "metadata": {},
   "source": [
    "#### Use a for loop and tuple unpacking to only print out the names and salaries of people who make at least 80000."
   ]
  },
  {
   "cell_type": "code",
   "execution_count": 4,
   "metadata": {
    "scrolled": true
   },
   "outputs": [
    {
     "name": "stdout",
     "output_type": "stream",
     "text": [
      "Sarah 80000.0\n"
     ]
    }
   ],
   "source": [
    "for name, salary in emps:\n",
    "    if salary >= 80000:\n",
    "        print(name, salary)"
   ]
  },
  {
   "cell_type": "code",
   "execution_count": 5,
   "metadata": {},
   "outputs": [
    {
     "data": {
      "text/plain": [
       "58750.0"
      ]
     },
     "execution_count": 5,
     "metadata": {},
     "output_type": "execute_result"
    }
   ],
   "source": [
    "# average salary\n",
    "s = 0\n",
    "for name, salary in emps:\n",
    "    s += salary\n",
    "s/len(emps)"
   ]
  },
  {
   "cell_type": "code",
   "execution_count": 6,
   "metadata": {},
   "outputs": [
    {
     "name": "stdout",
     "output_type": "stream",
     "text": [
      "Sarah\n"
     ]
    }
   ],
   "source": [
    "# print the name of employee who makes the most money\n",
    "n = emps[0][0]\n",
    "max_sal = emps[0][1]\n",
    "\n",
    "for name, salary in emps:\n",
    "    if salary > max_sal:\n",
    "        max_sal = salary\n",
    "        n = name\n",
    "print(n)\n",
    "\n"
   ]
  },
  {
   "cell_type": "markdown",
   "metadata": {},
   "source": [
    "#### Create a 2D list with 3 rows and 4 columns and fill it with any integer values. Include negative and positive values. "
   ]
  },
  {
   "cell_type": "markdown",
   "metadata": {},
   "source": [
    "#### Use a nested loop to compute its sum."
   ]
  },
  {
   "cell_type": "markdown",
   "metadata": {},
   "source": [
    "#### Use a nested loop to compute its maximum value."
   ]
  },
  {
   "cell_type": "markdown",
   "metadata": {},
   "source": [
    "#### Use a nested loop with enumerate to change all of the values whose row index OR column index is even to zero."
   ]
  },
  {
   "cell_type": "markdown",
   "metadata": {},
   "source": [
    "#### Create a dictionary of shopping list whose keys are the items(str) and values are the quantity(int) of that item to buy. Your dictionary should have at least 4 items. For example \"apple\":5 means to buy 5 apples. "
   ]
  },
  {
   "cell_type": "code",
   "execution_count": 7,
   "metadata": {},
   "outputs": [],
   "source": [
    "a = {\"apple\":5, \"orange\":6, \"milk\":1, \"cereal\":3}"
   ]
  },
  {
   "cell_type": "code",
   "execution_count": 8,
   "metadata": {},
   "outputs": [
    {
     "name": "stdout",
     "output_type": "stream",
     "text": [
      "{'apple': 5, 'orange': 6, 'milk': 1, 'cereal': 3}\n"
     ]
    }
   ],
   "source": [
    "print(a)"
   ]
  },
  {
   "cell_type": "markdown",
   "metadata": {},
   "source": [
    "#### Add a new item to your dictionary not already on the list. Reprint the dictionary."
   ]
  },
  {
   "cell_type": "code",
   "execution_count": 9,
   "metadata": {},
   "outputs": [
    {
     "name": "stdout",
     "output_type": "stream",
     "text": [
      "{'apple': 5, 'orange': 6, 'milk': 1, 'cereal': 3, 'bananas': 4}\n"
     ]
    }
   ],
   "source": [
    "a['bananas'] = 4\n",
    "print(a)"
   ]
  },
  {
   "cell_type": "markdown",
   "metadata": {},
   "source": [
    "#### Add 3 more quantity to any item in the dictionary. Reprint the dictionary."
   ]
  },
  {
   "cell_type": "code",
   "execution_count": 10,
   "metadata": {},
   "outputs": [
    {
     "name": "stdout",
     "output_type": "stream",
     "text": [
      "{'apple': 8, 'orange': 6, 'milk': 1, 'cereal': 3, 'bananas': 4}\n"
     ]
    }
   ],
   "source": [
    "a['apple'] += 3\n",
    "print(a)"
   ]
  },
  {
   "cell_type": "markdown",
   "metadata": {},
   "source": [
    "#### Use a loop to count the total of quantity from your shopping list. DO NOT USE the method values()."
   ]
  },
  {
   "cell_type": "code",
   "execution_count": 11,
   "metadata": {},
   "outputs": [
    {
     "name": "stdout",
     "output_type": "stream",
     "text": [
      "22\n"
     ]
    }
   ],
   "source": [
    "total = 0\n",
    "for x in a:\n",
    "    total += a[x]\n",
    "print(total)"
   ]
  },
  {
   "cell_type": "markdown",
   "metadata": {},
   "source": [
    "#### Use a loop to count the total of quantity from your shopping list. USE the method values().\n"
   ]
  },
  {
   "cell_type": "code",
   "execution_count": 12,
   "metadata": {},
   "outputs": [
    {
     "name": "stdout",
     "output_type": "stream",
     "text": [
      "22\n"
     ]
    }
   ],
   "source": [
    "total = 0\n",
    "for x in a.values():\n",
    "    total += x\n",
    "print(total)"
   ]
  },
  {
   "cell_type": "markdown",
   "metadata": {},
   "source": [
    "#### Create a new empty list. Use for loop to add to the list only the item name but not the value from your shopping list. For example, [\"apple\", \"cereal\", \"milk\"]."
   ]
  },
  {
   "cell_type": "code",
   "execution_count": 13,
   "metadata": {},
   "outputs": [
    {
     "name": "stdout",
     "output_type": "stream",
     "text": [
      "['apple', 'orange', 'milk', 'cereal', 'bananas']\n"
     ]
    }
   ],
   "source": [
    "lst = []\n",
    "for x in a:\n",
    "    lst.append(x)\n",
    "print(lst)    "
   ]
  },
  {
   "cell_type": "markdown",
   "metadata": {},
   "source": [
    "#### Create list of tuples of item and quantity of 3 items. At least one of the item should already be in the dictionary and another item should be a new item. Write code to update your dictionary with this new list. If an item is already in the dictionary, combine the quantities."
   ]
  },
  {
   "cell_type": "code",
   "execution_count": 14,
   "metadata": {},
   "outputs": [
    {
     "name": "stdout",
     "output_type": "stream",
     "text": [
      "{'apple': 20, 'orange': 6, 'milk': 1, 'cereal': 3, 'bananas': 4, 'ham': 2, 'bread': 3}\n"
     ]
    }
   ],
   "source": [
    "new_lst = [('ham',2), ('bread',3), ('apple',12)]\n",
    "for item, quantity in new_lst:\n",
    "    if item not in a:\n",
    "        a[item] = quantity\n",
    "    else:\n",
    "        a[item] += quantity\n",
    "print(a)"
   ]
  },
  {
   "cell_type": "code",
   "execution_count": null,
   "metadata": {},
   "outputs": [],
   "source": []
  }
 ],
 "metadata": {
  "kernelspec": {
   "display_name": "Python 3",
   "language": "python",
   "name": "python3"
  },
  "language_info": {
   "codemirror_mode": {
    "name": "ipython",
    "version": 3
   },
   "file_extension": ".py",
   "mimetype": "text/x-python",
   "name": "python",
   "nbconvert_exporter": "python",
   "pygments_lexer": "ipython3",
   "version": "3.6.4"
  }
 },
 "nbformat": 4,
 "nbformat_minor": 2
}
