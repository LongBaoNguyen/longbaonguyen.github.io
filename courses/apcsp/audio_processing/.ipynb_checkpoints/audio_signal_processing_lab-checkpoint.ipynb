{
 "cells": [
  {
   "cell_type": "markdown",
   "metadata": {
    "nbpresent": {
     "id": "b64c7875-2844-474f-b0c5-e9315d23de64"
    },
    "slideshow": {
     "slide_type": "slide"
    }
   },
   "source": [
    "# Audio Basics with Python\n",
    "\n"
   ]
  },
  {
   "cell_type": "markdown",
   "metadata": {},
   "source": [
    "#### Import libraries. Run the cell below!"
   ]
  },
  {
   "cell_type": "code",
   "execution_count": 21,
   "metadata": {
    "nbpresent": {
     "id": "003891aa-76c6-41d8-bf97-e94c9351ae90"
    },
    "slideshow": {
     "slide_type": "fragment"
    }
   },
   "outputs": [],
   "source": [
    "# Run this first!!\n",
    "from IPython.display import Audio\n",
    "import numpy as np\n",
    "from scipy.io import wavfile\n",
    "import matplotlib.pyplot as plt\n",
    "%matplotlib notebook"
   ]
  },
  {
   "cell_type": "markdown",
   "metadata": {
    "nbpresent": {
     "id": "e057db62-f55a-480b-87db-3093ab2b8d13"
    },
    "slideshow": {
     "slide_type": "slide"
    }
   },
   "source": [
    "#### The text file \"file.txt\" contains sampled values from a recording of a note played on the piano at the rate of 44100 Hz.\n",
    "\n",
    "#### Load the data into an array and play the audio.\n",
    "```python\n",
    "ys = np.loadtxt(filename)\n",
    "```"
   ]
  },
  {
   "cell_type": "code",
   "execution_count": 22,
   "metadata": {
    "scrolled": true,
    "slideshow": {
     "slide_type": "fragment"
    }
   },
   "outputs": [],
   "source": []
  },
  {
   "cell_type": "markdown",
   "metadata": {},
   "source": [
    "#### How many total samples are there? (Hint: Use \"size\" attribute of the array ys.)"
   ]
  },
  {
   "cell_type": "code",
   "execution_count": null,
   "metadata": {},
   "outputs": [],
   "source": []
  },
  {
   "cell_type": "markdown",
   "metadata": {},
   "source": [
    "#### Create an Audio object and then play it.\n",
    "```python\n",
    "Audio(ys, rate=fs)\n",
    "```\n",
    "#### where ys is the sampled values and fs is the sampling frequency. "
   ]
  },
  {
   "cell_type": "code",
   "execution_count": null,
   "metadata": {},
   "outputs": [],
   "source": []
  },
  {
   "cell_type": "markdown",
   "metadata": {},
   "source": [
    "#### The next few problems will help you plot this audio waveform using matplotlib.\n",
    "\n",
    "#### Create the following variables: fs = 44100, N = ys.size where fs is the sampling frequency and N is the number of samples. \n",
    "\n",
    "#### Using fs = 44100 Hz and N, compute the exact length of this audio clip ys. Call this variable L."
   ]
  },
  {
   "cell_type": "code",
   "execution_count": null,
   "metadata": {},
   "outputs": [],
   "source": []
  },
  {
   "cell_type": "markdown",
   "metadata": {},
   "source": [
    "#### Create a Numpy array of `N` equally-spaced time samples for the interval [0, L]. Call this variable ts. Use \n",
    "```python\n",
    "ts = np.linspace(a, b, N, endpoint=False) \n",
    "```\n",
    "which is an array of N equally-spaced points for the interval [a, b] not including the right endpoint b.\n",
    "\n",
    "#### The array ts is the domain of our sound. The array `ys` is the outputs or values of the sound wave. "
   ]
  },
  {
   "cell_type": "code",
   "execution_count": null,
   "metadata": {},
   "outputs": [],
   "source": []
  },
  {
   "cell_type": "markdown",
   "metadata": {},
   "source": [
    "#### Plot `ys` as a function of `ts`. \n",
    "```python\n",
    "fig, ax = plt.subplots()\n",
    "ax.plot(ts, ys)\n",
    "```\n",
    "\n",
    "#### Use `ax.set_xlim(t1, t2)` to zoom into the graph on the interval [t1,t2]. Pick any small interval and try it!"
   ]
  },
  {
   "cell_type": "code",
   "execution_count": null,
   "metadata": {
    "scrolled": true
   },
   "outputs": [],
   "source": []
  },
  {
   "cell_type": "markdown",
   "metadata": {},
   "source": [
    "#### Create arrays of time samples `ts` and samples `ys` of the mathematically pure tone A4 with frequency 440 Hz sampling at the rate of 44100 Hz for 2 seconds. This is concert A. "
   ]
  },
  {
   "cell_type": "code",
   "execution_count": null,
   "metadata": {},
   "outputs": [],
   "source": [
    "L = \n",
    "fs = \n",
    "N =     \n",
    "ts = \n",
    "ys = "
   ]
  },
  {
   "cell_type": "markdown",
   "metadata": {},
   "source": [
    "#### Create an Audio object and play this tone. This sound is essentially simulating the pure tone of a tuning fork."
   ]
  },
  {
   "cell_type": "code",
   "execution_count": null,
   "metadata": {},
   "outputs": [],
   "source": []
  },
  {
   "cell_type": "markdown",
   "metadata": {
    "slideshow": {
     "slide_type": "slide"
    }
   },
   "source": [
    "#### Graph the audio waveform. Zoom in."
   ]
  },
  {
   "cell_type": "code",
   "execution_count": null,
   "metadata": {
    "slideshow": {
     "slide_type": "fragment"
    }
   },
   "outputs": [],
   "source": []
  },
  {
   "cell_type": "markdown",
   "metadata": {
    "slideshow": {
     "slide_type": "slide"
    }
   },
   "source": [
    "#### Combine all of the sample code above to define a function `plot_signal_time` that plot a sampled signal."
   ]
  },
  {
   "cell_type": "code",
   "execution_count": 2,
   "metadata": {
    "slideshow": {
     "slide_type": "fragment"
    }
   },
   "outputs": [
    {
     "ename": "SyntaxError",
     "evalue": "invalid syntax (<ipython-input-2-12d4246c0267>, line 7)",
     "output_type": "error",
     "traceback": [
      "\u001b[0;36m  File \u001b[0;32m\"<ipython-input-2-12d4246c0267>\"\u001b[0;36m, line \u001b[0;32m7\u001b[0m\n\u001b[0;31m    N =       # num of samples\u001b[0m\n\u001b[0m                              ^\u001b[0m\n\u001b[0;31mSyntaxError\u001b[0m\u001b[0;31m:\u001b[0m invalid syntax\n"
     ]
    }
   ],
   "source": [
    "def plot_signal_time(ys, t1, t2, fs = 44100):\n",
    "    \"\"\"\n",
    "        ys: values of the waveform.\n",
    "        [t1, t2] time interval for the waveform.\n",
    "        fs: sampling frequency.\n",
    "    \"\"\"\n",
    "    N =       # num of samples\n",
    "    L =       # duration of audio clip\n",
    "    ts =      # array of N equally spaced values from [0,L]\n",
    "    \n",
    "    # create Figure and Axes object for plotting\n",
    "    # Then plot and call ax.set_xlim(t1,t2) to zoom in.\n",
    "    \n",
    "    ax.set_xlabel(\"Time(in seconds)\")\n"
   ]
  },
  {
   "cell_type": "markdown",
   "metadata": {
    "slideshow": {
     "slide_type": "slide"
    }
   },
   "source": [
    "#### Use `plot_signal_time` to plot the time domain representation of the piano recording."
   ]
  },
  {
   "cell_type": "code",
   "execution_count": null,
   "metadata": {
    "scrolled": false,
    "slideshow": {
     "slide_type": "fragment"
    }
   },
   "outputs": [],
   "source": []
  },
  {
   "attachments": {},
   "cell_type": "markdown",
   "metadata": {},
   "source": [
    "#### Create the C major chord, C-E-G with frequencies 261.6 Hz, 329.6 Hz, 392 Hz  sampling at the rate of 44100 Hz for 1.5 seconds. \n",
    "\n",
    "#### Create the variables N, fs, L, ts and ys as before. Then use plot_signal_time above to plot it. Zoom in if necessary."
   ]
  },
  {
   "cell_type": "code",
   "execution_count": null,
   "metadata": {},
   "outputs": [],
   "source": [
    "L = \n",
    "fs = \n",
    "N =     # since L is a float, remember to cast to an integer, use int()\n",
    "ts = \n",
    "ys = "
   ]
  }
 ],
 "metadata": {
  "kernelspec": {
   "display_name": "Python 3",
   "language": "python",
   "name": "python3"
  },
  "language_info": {
   "codemirror_mode": {
    "name": "ipython",
    "version": 3
   },
   "file_extension": ".py",
   "mimetype": "text/x-python",
   "name": "python",
   "nbconvert_exporter": "python",
   "pygments_lexer": "ipython3",
   "version": "3.6.4"
  }
 },
 "nbformat": 4,
 "nbformat_minor": 2
}
