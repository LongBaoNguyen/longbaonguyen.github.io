{
 "cells": [
  {
   "cell_type": "markdown",
   "metadata": {
    "nbpresent": {
     "id": "b64c7875-2844-474f-b0c5-e9315d23de64"
    },
    "slideshow": {
     "slide_type": "slide"
    }
   },
   "source": [
    "# An Introduction to the Discrete Fourier Transform\n",
    "\n",
    "# Lecture 2: Digital Audio Basics\n",
    "\n",
    "## The following is the exercises for Lecture 2 on the Discrete Fourier Transform. See this lecture video [here](https://www.youtube.com/watch?v=z6mzctYjVMc). For more supplemental resources, see also the course [website](https://longbaonguyen.github.io/courses/dft/discrete_fourier.html). \n",
    "\n",
    "### The \"clarinet.wav\" file is synthesized by one of my students Lukas Maldonadowerk.\n",
    "\n",
    "\n",
    "## Exercises\n"
   ]
  },
  {
   "cell_type": "code",
   "execution_count": 29,
   "metadata": {},
   "outputs": [],
   "source": [
    "import numpy as np\n",
    "from IPython.display import Audio\n",
    "import matplotlib.pyplot as plt\n",
    "from scipy.io import wavfile\n",
    "%matplotlib notebook"
   ]
  },
  {
   "cell_type": "markdown",
   "metadata": {},
   "source": [
    "#### The following two functions are taken from the previous Lecture 1's exercises. It will be helpful to use these functions in the following problems."
   ]
  },
  {
   "cell_type": "code",
   "execution_count": 2,
   "metadata": {},
   "outputs": [],
   "source": [
    "def plot_signal_time(ys, t1, t2, fs = 44100):\n",
    "    N = ys.size # num of samples\n",
    "    L = N/fs # duration of audio clip\n",
    "    ts = np.linspace(0,L,N) # array of N equally spaced values from [0,L]\n",
    "    fig, ax = plt.subplots()\n",
    "    ax.plot(ts, ys)\n",
    "    ax.set_xlim(t1, t2)\n",
    "    ax.set_xlabel(\"Time(in seconds)\")\n",
    "\n"
   ]
  },
  {
   "cell_type": "code",
   "execution_count": 1,
   "metadata": {},
   "outputs": [],
   "source": [
    "def plot_signal_frequency(ys, f1, f2, fs = 44100):\n",
    "    N = ys.size\n",
    "    L = N/fs\n",
    "    yk = np.fft.fft(ys)\n",
    "    k = np.arange(N) # 0 to N-1\n",
    "    freqs = k/L\n",
    "    fig, ax = plt.subplots()\n",
    "    ax.plot(freqs, np.abs(yk))\n",
    "    ax.set_xlim(f1,f2)\n",
    "    ax.set_xlabel(\"Frequency (Hz)\")\n",
    "    ax.set_ylabel(\"|yk|\")\n"
   ]
  },
  {
   "cell_type": "markdown",
   "metadata": {},
   "source": [
    "#### Read in the \"clarinet.wav\" file and play the audio."
   ]
  },
  {
   "cell_type": "code",
   "execution_count": 22,
   "metadata": {},
   "outputs": [],
   "source": []
  },
  {
   "cell_type": "code",
   "execution_count": null,
   "metadata": {
    "scrolled": true
   },
   "outputs": [],
   "source": []
  },
  {
   "cell_type": "markdown",
   "metadata": {},
   "source": [
    "#### Plot the frequency domain representation. You may use plot_signal_frequency function from the previous homework or redo it manually. Programmatically find the fundamental frequency and the dominant frequency(largest Fourier coefficent magnitude) exactly. "
   ]
  },
  {
   "cell_type": "code",
   "execution_count": null,
   "metadata": {},
   "outputs": [],
   "source": []
  },
  {
   "cell_type": "markdown",
   "metadata": {},
   "source": [
    "#### Sample from the sinusoids with frequencies 261.6 Hz, 329.6 Hz and 392 Hz (C Major Chord) at the rate of 44100 Hz for 0.15 seconds. Plot its time domain graph."
   ]
  },
  {
   "cell_type": "code",
   "execution_count": null,
   "metadata": {},
   "outputs": [],
   "source": []
  },
  {
   "cell_type": "markdown",
   "metadata": {},
   "source": [
    "#### Plot its frequency domain graph."
   ]
  },
  {
   "cell_type": "code",
   "execution_count": null,
   "metadata": {},
   "outputs": [],
   "source": []
  },
  {
   "cell_type": "markdown",
   "metadata": {},
   "source": [
    "#### Create three array of samples `ys1, ys2, ys3` of the C-E-G chord as above each for 0.05 second.  Use np.append() to concatenate the arrays. Call this array `ys4`. This audio is the notes played in succession rather than together as a chord."
   ]
  },
  {
   "cell_type": "code",
   "execution_count": null,
   "metadata": {},
   "outputs": [],
   "source": []
  },
  {
   "cell_type": "markdown",
   "metadata": {},
   "source": [
    "#### Plot the time domain of `ys4`. "
   ]
  },
  {
   "cell_type": "code",
   "execution_count": null,
   "metadata": {},
   "outputs": [],
   "source": []
  },
  {
   "cell_type": "markdown",
   "metadata": {},
   "source": [
    "#### Plot its frequency domain graph. Compare this to the frequency domain of the chord above. What do you notice?"
   ]
  },
  {
   "cell_type": "code",
   "execution_count": null,
   "metadata": {},
   "outputs": [],
   "source": []
  }
 ],
 "metadata": {
  "kernelspec": {
   "display_name": "Python [conda root]",
   "language": "python",
   "name": "conda-root-py"
  },
  "language_info": {
   "codemirror_mode": {
    "name": "ipython",
    "version": 3
   },
   "file_extension": ".py",
   "mimetype": "text/x-python",
   "name": "python",
   "nbconvert_exporter": "python",
   "pygments_lexer": "ipython3",
   "version": "3.6.4"
  }
 },
 "nbformat": 4,
 "nbformat_minor": 2
}
