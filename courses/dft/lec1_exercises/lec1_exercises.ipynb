{
 "cells": [
  {
   "cell_type": "markdown",
   "metadata": {
    "nbpresent": {
     "id": "b64c7875-2844-474f-b0c5-e9315d23de64"
    },
    "slideshow": {
     "slide_type": "slide"
    }
   },
   "source": [
    "# An Introduction to the Discrete Fourier Transform\n",
    "\n",
    "# Lecture 1: Overview\n",
    "\n",
    "\n",
    "## The following is the exercises for the first lecture on the Discrete Fourier Transform. See this lecture video [here](https://www.youtube.com/watch?v=t8idDnMtNx8). For more supplemental resources, see also the course [website](https://longbaonguyen.github.io/courses/dft/discrete_fourier.html). \n",
    "\n",
    "### The two text files \"piano.txt\" and \"trumpet.txt\" are files from the book \"Computational Physics\" by Mark Newman. More infomation [here](http://www-personal.umich.edu/~mejn/cp/). \n",
    "\n",
    "### The \"piano.wav\" file is synthesized by one of my students Lukas Maldonadowerk.\n",
    "\n",
    "## Exercises\n"
   ]
  },
  {
   "cell_type": "code",
   "execution_count": null,
   "metadata": {},
   "outputs": [],
   "source": [
    "import numpy as np\n",
    "from IPython.display import Audio\n",
    "import matplotlib.pyplot as plt\n",
    "from scipy.io import wavfile\n",
    "%matplotlib notebook"
   ]
  },
  {
   "cell_type": "markdown",
   "metadata": {},
   "source": [
    "#### Use `np.loadtxt(filename)` to import `trumpet.txt` and load into an array `ys`. Create an Audio object with the data from the text file at the sampling rate `44100` Hz. Play the audio."
   ]
  },
  {
   "cell_type": "code",
   "execution_count": null,
   "metadata": {},
   "outputs": [],
   "source": []
  },
  {
   "cell_type": "markdown",
   "metadata": {},
   "source": [
    "#### Create and initialized the variables `N`, the number of samples, `fs`, the sampling rate and `L` the length of the audio."
   ]
  },
  {
   "cell_type": "code",
   "execution_count": null,
   "metadata": {},
   "outputs": [],
   "source": []
  },
  {
   "cell_type": "markdown",
   "metadata": {},
   "source": [
    "#### Use `np.linspace(start, stop, num samples)` to create array of $N$ time samples `ts` for the time interval $[0,L]$."
   ]
  },
  {
   "cell_type": "code",
   "execution_count": null,
   "metadata": {},
   "outputs": [],
   "source": []
  },
  {
   "cell_type": "markdown",
   "metadata": {},
   "source": [
    "#### Use `matplotlib` to plot the waveform of the trumpet recording. Use `ax.set_xlim(x1, x2)` to zoom in. \n",
    "\n",
    "```python\n",
    "fig, ax = plt.subplots()\n",
    "ax.plot(ts, ys)\n",
    "```"
   ]
  },
  {
   "cell_type": "markdown",
   "metadata": {},
   "source": [
    "#### Now use `np.fft.fft(samples)` to convert the samples to Fourier coefficients. Then create the array of frequencies(harmonics) $f_k$ that the DFT will detect. $f_k=k/L$ where $k = 0,1,2...,N-1$.\n",
    "\n"
   ]
  },
  {
   "cell_type": "code",
   "execution_count": null,
   "metadata": {},
   "outputs": [],
   "source": []
  },
  {
   "cell_type": "markdown",
   "metadata": {},
   "source": [
    "#### Now plot the frequency domain representation (frequencies vs magnitude of Fourier coefficients). What note did the trumpet play? What are the harmonics? You may use the interactive feature of the matplotlib graph to estimate these values."
   ]
  },
  {
   "cell_type": "code",
   "execution_count": null,
   "metadata": {},
   "outputs": [],
   "source": []
  },
  {
   "cell_type": "markdown",
   "metadata": {},
   "source": [
    "#### As in the lecture, collect your code above to write the function `plot_signal_time` to plot the waveform as a function of time. We will use this function frequently in the next few Jupyter notebook problem sets. \n",
    "\n",
    "#### Call the function to plot the waveform of the trumpet. Zoom in. "
   ]
  },
  {
   "cell_type": "code",
   "execution_count": null,
   "metadata": {},
   "outputs": [],
   "source": [
    "def plot_signal_time(ys, t1, t2, fs = 44100):\n",
    "    \"\"\" plots the signal ys on the time domain [t2, t2] \n",
    "    at the sampling rate fs. \n",
    "    \"\"\"\n"
   ]
  },
  {
   "cell_type": "markdown",
   "metadata": {},
   "source": [
    "#### As in the lecture, collect your code above to write the function `plot_signal_frequency` to plot the spectrum of the signal. We will use this function frequently in the next few Jupyter notebook problem sets. "
   ]
  },
  {
   "cell_type": "code",
   "execution_count": null,
   "metadata": {},
   "outputs": [],
   "source": [
    "def plot_signal_frequency(ys, f1, f2, fs = 44100):\n",
    "    \"\"\" plots the signal ys on the frequency domain [f1, f2] \n",
    "    at the sampling rate fs. \n",
    "    \"\"\"\n",
    "    \n",
    "    "
   ]
  },
  {
   "cell_type": "markdown",
   "metadata": {},
   "source": [
    "#### Import `piano.txt` and use `plot_signal_frequency` above to plot the magnitudes of the Fourier coefficients. Compare this frequency domain of the trumpet to that of the piano. \n",
    "\n",
    "\n",
    "Answer:"
   ]
  },
  {
   "cell_type": "code",
   "execution_count": null,
   "metadata": {},
   "outputs": [],
   "source": []
  },
  {
   "cell_type": "markdown",
   "metadata": {},
   "source": [
    "#### We used the interactive feature of matplotlib to estimate the fundamental frequency and its harmonics. Now use Python code to find the fundamental frequency exactly of the piano recording. Hint: Use `np.argsort(array)` to sort an array. This function returns the indices that would sort the array. The formula $f_k=k/L$ will be useful. "
   ]
  },
  {
   "cell_type": "code",
   "execution_count": null,
   "metadata": {},
   "outputs": [],
   "source": []
  },
  {
   "cell_type": "markdown",
   "metadata": {},
   "source": [
    "#### Find the three most dominant(largest Fourier coefficient magnitude) frequencies in the trumpet recording. Slicing will be helpful: Given an array arr, `arr[start:stop]` returns the subsequence from index start to index stop(excluding). "
   ]
  },
  {
   "cell_type": "code",
   "execution_count": null,
   "metadata": {},
   "outputs": [],
   "source": []
  },
  {
   "cell_type": "markdown",
   "metadata": {},
   "source": [
    "#### Use the `read(filename)` function from the `wavfile` module to read in \"piano.wav\". Play the audio file and plot the frequencies and determine chord of the piano recording. \n",
    "```python\n",
    "fs, ys = wavfile.read(\"file.wav\")\n",
    "```\n",
    "\n",
    "#### The following website of notes/frequencies will be helpful. \n",
    "http://pages.mtu.edu/~suits/notefreqs.html"
   ]
  },
  {
   "cell_type": "code",
   "execution_count": null,
   "metadata": {},
   "outputs": [],
   "source": []
  }
 ],
 "metadata": {
  "kernelspec": {
   "display_name": "Python [conda root]",
   "language": "python",
   "name": "conda-root-py"
  },
  "language_info": {
   "codemirror_mode": {
    "name": "ipython",
    "version": 3
   },
   "file_extension": ".py",
   "mimetype": "text/x-python",
   "name": "python",
   "nbconvert_exporter": "python",
   "pygments_lexer": "ipython3",
   "version": "3.6.4"
  }
 },
 "nbformat": 4,
 "nbformat_minor": 2
}
