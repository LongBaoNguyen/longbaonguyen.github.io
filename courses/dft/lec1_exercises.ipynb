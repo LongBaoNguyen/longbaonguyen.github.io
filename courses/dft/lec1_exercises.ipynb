{
 "cells": [
  {
   "cell_type": "markdown",
   "metadata": {
    "nbpresent": {
     "id": "b64c7875-2844-474f-b0c5-e9315d23de64"
    },
    "slideshow": {
     "slide_type": "slide"
    }
   },
   "source": [
    "# An Introduction to the Discrete Fourier Transform\n",
    "# Lecture 1: Overview\n",
    "\n",
    "# Exercises\n",
    "\n",
    "\n",
    "# A work in progress. Check back later!\n"
   ]
  }
 ],
 "metadata": {
  "celltoolbar": "Slideshow",
  "kernelspec": {
   "display_name": "Python [conda root]",
   "language": "python",
   "name": "conda-root-py"
  },
  "language_info": {
   "codemirror_mode": {
    "name": "ipython",
    "version": 3
   },
   "file_extension": ".py",
   "mimetype": "text/x-python",
   "name": "python",
   "nbconvert_exporter": "python",
   "pygments_lexer": "ipython3",
   "version": "3.6.4"
  }
 },
 "nbformat": 4,
 "nbformat_minor": 2
}
