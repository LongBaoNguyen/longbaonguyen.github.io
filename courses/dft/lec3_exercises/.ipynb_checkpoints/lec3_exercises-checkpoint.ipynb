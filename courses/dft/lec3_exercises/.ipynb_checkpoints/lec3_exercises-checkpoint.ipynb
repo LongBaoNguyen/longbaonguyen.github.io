{
 "cells": [
  {
   "cell_type": "markdown",
   "metadata": {
    "nbpresent": {
     "id": "b64c7875-2844-474f-b0c5-e9315d23de64"
    },
    "slideshow": {
     "slide_type": "slide"
    }
   },
   "source": [
    "# An Introduction to the Discrete Fourier Transform\n",
    "\n",
    "# Lecture 2: Digital Audio Basics\n",
    "\n",
    "## The following is the exercises for Lecture 2 on the Discrete Fourier Transform. See this lecture video [here](https://www.youtube.com/watch?v=z6mzctYjVMc). For more supplemental resources, see also the course [website](https://longbaonguyen.github.io/courses/dft/discrete_fourier.html). \n",
    "\n",
    "### The \"clarinet.wav\" file is synthesized by one of my students Lukas Maldonadowerk.\n",
    "\n",
    "\n",
    "## Exercises\n"
   ]
  },
  {
   "cell_type": "code",
   "execution_count": 41,
   "metadata": {},
   "outputs": [],
   "source": [
    "import numpy as np\n",
    "from IPython.display import Audio\n",
    "import matplotlib.pyplot as plt\n",
    "from scipy.io import wavfile\n",
    "%matplotlib notebook"
   ]
  },
  {
   "cell_type": "markdown",
   "metadata": {},
   "source": [
    "#### The following two functions are taken from the previous Lecture 1's exercises. It will be helpful to use these functions in the following problems."
   ]
  },
  {
   "cell_type": "code",
   "execution_count": 42,
   "metadata": {},
   "outputs": [],
   "source": [
    "def plot_signal_time(ys, t1, t2, fs = 44100):\n",
    "    \"\"\" plots the signal ys on the time domain [t2, t2] \n",
    "    at the sampling rate fs. \n",
    "    \"\"\"\n",
    "    N = ys.size # num of samples\n",
    "    L = N/fs # duration of audio clip\n",
    "    ts = np.linspace(0,L,N) # array of N equally spaced values from [0,L]\n",
    "    fig, ax = plt.subplots()\n",
    "    ax.plot(ts, ys)\n",
    "    ax.set_xlim(t1, t2)\n",
    "    ax.set_xlabel(\"Time(in seconds)\")\n",
    "\n"
   ]
  },
  {
   "cell_type": "code",
   "execution_count": 43,
   "metadata": {},
   "outputs": [],
   "source": [
    "def plot_signal_frequency(ys, f1, f2, fs = 44100):\n",
    "    \"\"\" plots the signal ys on the frequency domain [f1, f2] \n",
    "    at the sampling rate fs. \n",
    "    \"\"\"\n",
    "    N = ys.size\n",
    "    L = N/fs\n",
    "    yk = np.fft.fft(ys)\n",
    "    k = np.arange(N) # 0 to N-1\n",
    "    freqs = k/L\n",
    "    fig, ax = plt.subplots()\n",
    "    ax.plot(freqs, np.abs(yk))\n",
    "    ax.set_xlim(f1,f2)\n",
    "    ax.set_xlabel(\"Frequency (Hz)\")\n",
    "    ax.set_ylabel(\"|yk|\")\n"
   ]
  },
  {
   "cell_type": "markdown",
   "metadata": {},
   "source": [
    "#### Sample from the waveform which is the sum of two sinusoids with frequencies 6 Hz and 10 Hz at the sampling rate of 100 Hz for 1 second. Plot its time domain graph using `plot_signal_time` function above.\n",
    "\n",
    "#### Hint: $y(t) = \\sin(2\\pi\\cdot ft), t\\in [0,L]$ is the sinuosoid with frequency $f$ Hz."
   ]
  },
  {
   "cell_type": "code",
   "execution_count": null,
   "metadata": {},
   "outputs": [],
   "source": []
  },
  {
   "cell_type": "markdown",
   "metadata": {},
   "source": [
    "#### Plot its frequency domain graph using `plot_signal_frequency` above on the domain [0, 50] Hz interval."
   ]
  },
  {
   "cell_type": "code",
   "execution_count": null,
   "metadata": {
    "scrolled": true
   },
   "outputs": [],
   "source": []
  },
  {
   "cell_type": "markdown",
   "metadata": {},
   "source": [
    "#### Plot again its frequency domain graph but on the [0,100] Hz interval. What do you notice? (In Lecture 3, we learn that every real signal has a symmetric spectrum. We will also prove this in the exercises for Lecture 4)"
   ]
  },
  {
   "cell_type": "code",
   "execution_count": null,
   "metadata": {},
   "outputs": [],
   "source": []
  },
  {
   "cell_type": "markdown",
   "metadata": {},
   "source": [
    "#### Create an array of samples `ys1` of the sinusoid with frequency 6 Hz at the rate 100 Hz for L = 0.5 second. And an array `ys2` with frequency 10 Hz at the same rate and length. Use np.append() to concatenate the arrays. Call this array `ys3`. This audio is the notes played in succession rather than together as a chord. Plot the `y3` array using plot_signal_time on the [0,1] interval."
   ]
  },
  {
   "cell_type": "code",
   "execution_count": null,
   "metadata": {
    "scrolled": true
   },
   "outputs": [],
   "source": []
  },
  {
   "cell_type": "markdown",
   "metadata": {},
   "source": [
    "#### Now plot the frequency domain of `y3` on the interval [0,50] Hz. Compare this to the previous frequency domain representation of the array `ys`."
   ]
  },
  {
   "cell_type": "code",
   "execution_count": null,
   "metadata": {
    "scrolled": true
   },
   "outputs": [],
   "source": []
  },
  {
   "cell_type": "markdown",
   "metadata": {},
   "source": [
    "## Aliasing"
   ]
  },
  {
   "cell_type": "markdown",
   "metadata": {},
   "source": [
    "#### Sample from a sinusoid with frequency 50 Hz with a sampling rate of fs = 100 Hz for 1 second.  "
   ]
  },
  {
   "cell_type": "code",
   "execution_count": null,
   "metadata": {
    "scrolled": true
   },
   "outputs": [],
   "source": []
  },
  {
   "cell_type": "markdown",
   "metadata": {},
   "source": [
    "#### Plot its frequency domain representation. Does the DFT detect the 50 Hz component?"
   ]
  },
  {
   "cell_type": "code",
   "execution_count": null,
   "metadata": {},
   "outputs": [],
   "source": []
  },
  {
   "cell_type": "markdown",
   "metadata": {},
   "source": [
    "#### Redo the problem by sampling from the same sinusoid with frequency 50 Hz but this time with a sampling rate of fs = 80 Hz for 1 second.  Plot its frequency domain representation. Does the DFT now detect the 50 Hz component? What happened to that component? What is the aliased frequency that the DFT detect? This problem illustrate aliasing and how a 50 Hz signal, that is larger than the Nyquist frequency is distorted to look like a lower aliased frequency. \n",
    "\n",
    "#### This is why a sampling of 44100 Hz is needed to ensure that all frequencies in the human hearing range 20-20000 Hz is properly recorded. "
   ]
  },
  {
   "cell_type": "code",
   "execution_count": null,
   "metadata": {},
   "outputs": [],
   "source": []
  },
  {
   "cell_type": "markdown",
   "metadata": {},
   "source": [
    "## Lecture 1 Review Problem"
   ]
  },
  {
   "cell_type": "markdown",
   "metadata": {},
   "source": [
    "#### Read in the \"clarinet.wav\" file and play the audio."
   ]
  },
  {
   "cell_type": "code",
   "execution_count": null,
   "metadata": {},
   "outputs": [],
   "source": []
  },
  {
   "cell_type": "markdown",
   "metadata": {},
   "source": [
    "#### Plot the frequency domain representation. Programmatically find the fundamental frequency and the dominant frequency(largest Fourier coefficent magnitude) exactly. HInt: Use np.argsort(array) to sort the array to find the index of the largest. Then use the formula $f_k=k/L$ to find the corresponding frequency."
   ]
  },
  {
   "cell_type": "code",
   "execution_count": null,
   "metadata": {},
   "outputs": [],
   "source": []
  }
 ],
 "metadata": {
  "kernelspec": {
   "display_name": "Python [conda root]",
   "language": "python",
   "name": "conda-root-py"
  },
  "language_info": {
   "codemirror_mode": {
    "name": "ipython",
    "version": 3
   },
   "file_extension": ".py",
   "mimetype": "text/x-python",
   "name": "python",
   "nbconvert_exporter": "python",
   "pygments_lexer": "ipython3",
   "version": "3.6.4"
  }
 },
 "nbformat": 4,
 "nbformat_minor": 2
}
