{
 "cells": [
  {
   "cell_type": "markdown",
   "metadata": {
    "nbpresent": {
     "id": "b64c7875-2844-474f-b0c5-e9315d23de64"
    },
    "slideshow": {
     "slide_type": "slide"
    }
   },
   "source": [
    "# An Introduction to the Discrete Fourier Transform\n",
    "\n",
    "# Lecture 3: Aliasing and the Nyquist Frequency\n",
    "\n",
    "## The following is the exercises for Lecture 2 on the Discrete Fourier Transform. See this lecture video [here](https://www.youtube.com/watch?v=8I8UFHfQ4Kk). For more supplemental resources, see also the course [website](https://longbaonguyen.github.io/courses/dft/discrete_fourier.html). \n",
    "\n",
    "\n",
    "\n",
    "## Exercises\n"
   ]
  },
  {
   "cell_type": "code",
   "execution_count": 1,
   "metadata": {},
   "outputs": [],
   "source": [
    "import numpy as np\n",
    "from IPython.display import Audio\n",
    "import matplotlib.pyplot as plt\n",
    "from scipy.io import wavfile\n",
    "%matplotlib notebook"
   ]
  },
  {
   "cell_type": "markdown",
   "metadata": {},
   "source": [
    "#### The following two functions are taken from the previous Lecture 1's exercises. It will be helpful to use these functions in the following problems."
   ]
  },
  {
   "cell_type": "code",
   "execution_count": 3,
   "metadata": {},
   "outputs": [],
   "source": [
    "def plot_signal_time(ys, t1, t2, fs = 44100):\n",
    "    \"\"\" plots the signal ys on the time domain [t2, t2] \n",
    "    at the sampling rate fs. \n",
    "    \"\"\"\n",
    "    N = ys.size # num of samples\n",
    "    L = N/fs # duration of audio clip\n",
    "    ts = np.linspace(0,L,N) # array of N equally spaced values from [0,L]\n",
    "    fig, ax = plt.subplots()\n",
    "    ax.plot(ts, ys)\n",
    "    ax.set_xlim(t1, t2)\n",
    "    ax.set_xlabel(\"Time(in seconds)\")\n",
    "\n"
   ]
  },
  {
   "cell_type": "code",
   "execution_count": 4,
   "metadata": {},
   "outputs": [],
   "source": [
    "def plot_signal_frequency(ys, f1, f2, fs = 44100):\n",
    "    \"\"\" plots the signal ys on the frequency domain [f1, f2] \n",
    "    at the sampling rate fs. \n",
    "    \"\"\"\n",
    "    N = ys.size\n",
    "    L = N/fs\n",
    "    yk = np.fft.fft(ys)\n",
    "    k = np.arange(N) # 0 to N-1\n",
    "    freqs = k/L\n",
    "    fig, ax = plt.subplots()\n",
    "    ax.plot(freqs, np.abs(yk))\n",
    "    ax.set_xlim(f1,f2)\n",
    "    ax.set_xlabel(\"Frequency (Hz)\")\n",
    "    ax.set_ylabel(\"|yk|\")\n"
   ]
  },
  {
   "cell_type": "markdown",
   "metadata": {},
   "source": []
  },
  {
   "cell_type": "markdown",
   "metadata": {},
   "source": [
    "#### Sample from a sinusoid with frequency 50 Hz with a sampling rate of fs = 100 Hz for 1 second.  "
   ]
  },
  {
   "cell_type": "code",
   "execution_count": null,
   "metadata": {
    "scrolled": true
   },
   "outputs": [],
   "source": []
  },
  {
   "cell_type": "markdown",
   "metadata": {},
   "source": [
    "#### Plot its frequency domain representation. Does the DFT detect the 50 Hz component?"
   ]
  },
  {
   "cell_type": "code",
   "execution_count": null,
   "metadata": {},
   "outputs": [],
   "source": []
  },
  {
   "cell_type": "markdown",
   "metadata": {},
   "source": [
    "#### Redo the problem by sampling from the same sinusoid with frequency 50 Hz but this time with a sampling rate of fs = 80 Hz for 1 second.  Plot its frequency domain representation. Does the DFT now detect the 50 Hz component? What happened to that component? What is the aliased frequency that the DFT detect? This problem illustrate aliasing and how a 50 Hz signal, that is larger than the Nyquist frequency is distorted to look like a lower aliased frequency. \n",
    "\n",
    "#### This is why a sampling of 44100 Hz is needed to ensure that all frequencies in the human hearing range 20-20000 Hz is properly recorded. "
   ]
  },
  {
   "cell_type": "code",
   "execution_count": null,
   "metadata": {},
   "outputs": [],
   "source": []
  }
 ],
 "metadata": {
  "kernelspec": {
   "display_name": "Python [conda root]",
   "language": "python",
   "name": "conda-root-py"
  },
  "language_info": {
   "codemirror_mode": {
    "name": "ipython",
    "version": 3
   },
   "file_extension": ".py",
   "mimetype": "text/x-python",
   "name": "python",
   "nbconvert_exporter": "python",
   "pygments_lexer": "ipython3",
   "version": "3.6.4"
  }
 },
 "nbformat": 4,
 "nbformat_minor": 2
}
