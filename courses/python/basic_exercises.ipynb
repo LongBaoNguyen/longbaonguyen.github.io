{
 "cells": [
  {
   "cell_type": "markdown",
   "metadata": {
    "slideshow": {
     "slide_type": "slide"
    }
   },
   "source": [
    "# An Introduction to Python\n",
    "\n",
    "## Basic Data Types and Operations\n",
    "\n",
    "## Exercises\n",
    "\n",
    "### This notebook contains the programming exercises for [An Introduction to Python: Basic Data Types and Operations.](https://www.youtube.com/watch?v=VseZFjeHgqI)\n"
   ]
  },
  {
   "cell_type": "markdown",
   "metadata": {},
   "source": [
    "## This is the PDF version of the Jupyter Notebook, provided only for convenience. It is recommended that you download the Jupyter Notebook(.ipynb) and interactively code your answers. "
   ]
  },
  {
   "cell_type": "markdown",
   "metadata": {
    "slideshow": {
     "slide_type": "slide"
    }
   },
   "source": [
    "# Exercises\n",
    "## Do the following problems."
   ]
  },
  {
   "cell_type": "markdown",
   "metadata": {
    "slideshow": {
     "slide_type": "slide"
    }
   },
   "source": [
    "### Jupyter Notebook Shortcuts:\n",
    "\n",
    "There are two modes when a cell is highlighted. \n",
    "\n",
    "#### Command Mode: Press ESC to activate. The cell has a blue border if this mode is active. In this mode, you can add, delete, create, copy and paste cells.\n",
    "\n",
    "- create a new cell above the current cell: a\n",
    "- create a new cell below the current cell: b\n",
    "- delete the current cell: dd\n",
    "- change the current cell’s type to “Code”: y\n",
    "- change the current cell’s type to “Markdown”: m\n",
    "\n",
    "#### Edit Mode: Press ENTER to activate. The cell has a green border if this mode is active. In this mode, you can edit and type text into the cell.\n",
    "\n",
    "- execute the current cell and create a new cell: SHIFT + ENTER"
   ]
  },
  {
   "cell_type": "markdown",
   "metadata": {
    "slideshow": {
     "slide_type": "fragment"
    }
   },
   "source": [
    "#### Write code to compute the following:\n",
    "\n",
    "- $2^{16}$\n",
    "- $\\dfrac{2-(3+4\\cdot7)}{5}$\n",
    "- $(2-3i)+(4+i)$\n",
    "- $(2+i)(4-3i)$\n",
    "- $\\sqrt{234}$ \n",
    "- $\\sin(3\\pi/5)$"
   ]
  },
  {
   "cell_type": "code",
   "execution_count": null,
   "metadata": {},
   "outputs": [],
   "source": []
  },
  {
   "cell_type": "markdown",
   "metadata": {},
   "source": [
    "#### Compute the following boolean expression with code.\n",
    "x = 3\n",
    "y = 10\n",
    "z = -5\n",
    "\n",
    "- $x\\leq 1$ or $y = 10$\n",
    "- $z > 0$ and $y > 0$\n",
    "- not $(x\\neq 3$ or $y >= -5)$"
   ]
  },
  {
   "cell_type": "code",
   "execution_count": null,
   "metadata": {},
   "outputs": [],
   "source": []
  },
  {
   "cell_type": "markdown",
   "metadata": {},
   "source": [
    "#### Mike's total on five tests is 384. What is the average of his tests?"
   ]
  },
  {
   "cell_type": "code",
   "execution_count": 103,
   "metadata": {},
   "outputs": [],
   "source": [
    "total = 384\n"
   ]
  },
  {
   "cell_type": "markdown",
   "metadata": {},
   "source": [
    "#### Use the quadratic formula to solve $x^2+4x-3=0$. The quadratic formula is \n",
    "\\begin{equation}\n",
    "\\frac{-b\\pm\\sqrt{b^2-4ac}}{2a}.\n",
    "\\end{equation}\n",
    "\n",
    "#### Your answers should be 0.6457513110645907 and -4.645751311064591."
   ]
  },
  {
   "cell_type": "code",
   "execution_count": 1,
   "metadata": {
    "collapsed": true
   },
   "outputs": [],
   "source": [
    "import math # use math.sqrt()\n"
   ]
  },
  {
   "cell_type": "markdown",
   "metadata": {},
   "source": [
    "#### If today is Monday. Which day of the week is $4534$ days from now? (Hint: Use %)."
   ]
  },
  {
   "cell_type": "code",
   "execution_count": null,
   "metadata": {},
   "outputs": [],
   "source": []
  }
 ],
 "metadata": {
  "kernelspec": {
   "display_name": "Python [conda root]",
   "language": "python",
   "name": "conda-root-py"
  },
  "language_info": {
   "codemirror_mode": {
    "name": "ipython",
    "version": 3
   },
   "file_extension": ".py",
   "mimetype": "text/x-python",
   "name": "python",
   "nbconvert_exporter": "python",
   "pygments_lexer": "ipython3",
   "version": "3.6.4"
  }
 },
 "nbformat": 4,
 "nbformat_minor": 1
}
