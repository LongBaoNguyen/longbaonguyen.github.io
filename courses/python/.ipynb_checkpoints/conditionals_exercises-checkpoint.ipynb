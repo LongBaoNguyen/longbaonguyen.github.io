{
 "cells": [
  {
   "cell_type": "markdown",
   "metadata": {
    "slideshow": {
     "slide_type": "slide"
    }
   },
   "source": [
    "# An Introduction to Python\n",
    "## Conditionals\n",
    "\n",
    "### This notebook contains the programming exercises for [An Introduction to Python: Conditionals.](https://www.youtube.com/watch?v=IXAOX8v_YTI)\n",
    "\n"
   ]
  },
  {
   "cell_type": "markdown",
   "metadata": {
    "slideshow": {
     "slide_type": "slide"
    }
   },
   "source": [
    "# Exercises\n",
    "## Do the following problems."
   ]
  },
  {
   "cell_type": "markdown",
   "metadata": {
    "slideshow": {
     "slide_type": "slide"
    }
   },
   "source": [
    "### Jupyter Notebook Shortcuts:\n",
    "\n",
    "There are two modes when a cell is highlighted. \n",
    "\n",
    "#### Command Mode: Press ESC to activate. The cell has a blue border if this mode is active. In this mode, you can add, delete, create, copy and paste cells.\n",
    "\n",
    "- create a new cell above the current cell: a\n",
    "- create a new cell below the current cell: b\n",
    "- delete the current cell: dd\n",
    "- change the current cell’s type to “Code”: y\n",
    "- change the current cell’s type to “Markdown”: m\n",
    "\n",
    "#### Edit Mode: Press ENTER to activate. The cell has a green border if this mode is active. In this mode, you can edit and type text into the cell.\n",
    "\n",
    "- execute the current cell and create a new cell: SHIFT + ENTER"
   ]
  },
  {
   "cell_type": "markdown",
   "metadata": {
    "slideshow": {
     "slide_type": "slide"
    }
   },
   "source": [
    "#### Write a segment of code that uses conditionals to print out the messages \"Gold\", \"Silver\" or \"Bronze\" according to the value of the variable `x` which represents the standing of an athlete at an Olympics event."
   ]
  },
  {
   "cell_type": "code",
   "execution_count": null,
   "metadata": {
    "slideshow": {
     "slide_type": "slide"
    }
   },
   "outputs": [],
   "source": []
  },
  {
   "cell_type": "markdown",
   "metadata": {},
   "source": [
    "#### What is logically wrong with the following code? Use markdown to answer the question. You can also run the code to check your answer. \n",
    "\n",
    "```python\n",
    "if grade >= 90:\n",
    "    print(\"You got an A!\")\n",
    "if grade >= 80:\n",
    "    print(\"You got a B!\")\n",
    "if grade >= 70:\n",
    "    print(\"You got a C!\")\n",
    "if grade >= 60:\n",
    "    print(\"You got a D!\")\n",
    "if grade >= 50:\n",
    "    print(\"You got an F!\")\n",
    "```\n",
    "    \n"
   ]
  },
  {
   "cell_type": "markdown",
   "metadata": {},
   "source": []
  },
  {
   "cell_type": "markdown",
   "metadata": {},
   "source": [
    "```python\n",
    "if  i < j:\n",
    "    if j < k:\n",
    "        i = j \n",
    "    else:\n",
    "        j = k \n",
    "else:\n",
    "    if j > k: \n",
    "        j = i\n",
    "    else: \n",
    "        i = k\n",
    "print(\"i =\", i, \" j =\", j, \" k =\", k)\n",
    "```\n",
    "\n",
    "#### What will the code print if the variables i, j, and k have the following values? \n",
    "\n",
    "(a) i = 3,j = 5,and k = 7 \n",
    "\n",
    "(b) i = 3,j = 7,and k = 5 \n",
    "\n",
    "(c) i = 5,j = 3,and k = 7 \n"
   ]
  },
  {
   "cell_type": "markdown",
   "metadata": {},
   "source": []
  },
  {
   "cell_type": "markdown",
   "metadata": {},
   "source": [
    "#### If a boolean expression uses all of `and` , `or` and `not`. The `not` operator has the highest precedence and should be evaluated first. Then evaluate `and` before `or`.\n",
    "\n",
    "In the following, note that evaluating `or` before `and` in the following gives a different and **incorrect** answer.\n",
    "What is the value of `b`?\n",
    "```python\n",
    "x = 2\n",
    "y = 4\n",
    "z = 5\n",
    "b = z > 2 or x > 3 and y < 3\n",
    "```"
   ]
  },
  {
   "cell_type": "markdown",
   "metadata": {},
   "source": []
  },
  {
   "cell_type": "markdown",
   "metadata": {},
   "source": [
    "#### Write a segment of code that ask the user to input an integer and prints out the message \"Fizz\" if the number is a multiple of 3, \"Buzz\" if the number is a multiple of 5 and \"FizzBuzz\" if it is a multiple of both 3 and 5. If the number satisfies none of the above conditions, print the number. \n",
    "\n",
    "Test your code!:\n",
    "- x = 4 should print 4.\n",
    "- x = 12 should print \"Fizz\".\n",
    "- x = 10 should print \"Buzz\".\n",
    "- x = 45 should print \"FizzBuzz\".\n",
    "\n",
    "#### The first line of code has been given to you to receive user input."
   ]
  },
  {
   "cell_type": "code",
   "execution_count": null,
   "metadata": {},
   "outputs": [],
   "source": [
    "x = int(input(\"Enter a positive integer. \"))\n",
    "# This is a comment. fill out your code below.\n"
   ]
  },
  {
   "cell_type": "markdown",
   "metadata": {},
   "source": [
    "#### What is the value of `y` in the following? Try it first then run the code to check your answer. \n",
    "1)\n",
    "```python\n",
    "x = 30\n",
    "y = \"a\" if x > 15 else \"b\"\n",
    "```\n",
    "2)\n",
    "```python\n",
    "x = 15\n",
    "y = \"a\" if x > 15 else \"b\"\n",
    "```\n",
    "3)\n",
    "```python\n",
    "x = 10\n",
    "y = \"a\" if x > 15 else \"b\" if x >=11 else \"c\"\n",
    "```\n",
    "4)\n",
    "```python\n",
    "x = 12\n",
    "y = \"a\" if x > 15 else \"b\" if x >=11 else \"c\"\n",
    "```\n",
    "5)\n",
    "```python\n",
    "x = 35\n",
    "y = \"a\" if x > 15 else \"b\" if x >=11 else \"c\"\n",
    "```\n"
   ]
  },
  {
   "cell_type": "markdown",
   "metadata": {},
   "source": []
  },
  {
   "cell_type": "markdown",
   "metadata": {},
   "source": [
    "#### Let `y` represents a year. A leap year is a year that is divisible by 4 and not by 100 unless it is divisible by 400. For example, 4, 2008, and 1600 are leap years but not 1700. Write a segment of code that determines whether `y` is a leap year. Do it in two ways: 1) Use if/elif/else statements. 2) Use only boolean logical operators `and`, `or` and `not`.\n",
    "\n",
    "#### Test your code with various values for `y`."
   ]
  },
  {
   "cell_type": "code",
   "execution_count": 4,
   "metadata": {},
   "outputs": [
    {
     "name": "stdout",
     "output_type": "stream",
     "text": [
      "is leap\n"
     ]
    }
   ],
   "source": [
    "# method 1, use if/elif/else\n",
    "y = 1324\n"
   ]
  },
  {
   "cell_type": "code",
   "execution_count": 10,
   "metadata": {},
   "outputs": [
    {
     "name": "stdout",
     "output_type": "stream",
     "text": [
      "True\n"
     ]
    }
   ],
   "source": [
    "# method 2, use boolean operators and, or and not \n",
    "# fill in the boolean expression for isLeap below\n",
    "y = 2400\n",
    "isLeap = \n",
    "print(isLeap)"
   ]
  },
  {
   "cell_type": "code",
   "execution_count": null,
   "metadata": {},
   "outputs": [],
   "source": []
  }
 ],
 "metadata": {
  "kernelspec": {
   "display_name": "Python [conda root]",
   "language": "python",
   "name": "conda-root-py"
  },
  "language_info": {
   "codemirror_mode": {
    "name": "ipython",
    "version": 3
   },
   "file_extension": ".py",
   "mimetype": "text/x-python",
   "name": "python",
   "nbconvert_exporter": "python",
   "pygments_lexer": "ipython3",
   "version": "3.6.4"
  }
 },
 "nbformat": 4,
 "nbformat_minor": 1
}
