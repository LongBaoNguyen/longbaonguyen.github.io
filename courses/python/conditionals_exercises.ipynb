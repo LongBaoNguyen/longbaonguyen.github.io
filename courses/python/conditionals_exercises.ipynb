{
 "cells": [
  {
   "cell_type": "markdown",
   "metadata": {
    "slideshow": {
     "slide_type": "slide"
    }
   },
   "source": [
    "# An Introduction to Python\n",
    "## Conditionals\n",
    "\n",
    "## Exercises\n",
    "\n",
    "### This notebook contains the programming exercises for [An Introduction to Python: Conditionals.](https://www.youtube.com/watch?v=IXAOX8v_YTI)\n",
    "\n"
   ]
  },
  {
   "cell_type": "markdown",
   "metadata": {
    "slideshow": {
     "slide_type": "slide"
    }
   },
   "source": [
    "# Exercises\n",
    "## Do the following problems."
   ]
  },
  {
   "cell_type": "markdown",
   "metadata": {
    "slideshow": {
     "slide_type": "slide"
    }
   },
   "source": [
    "#### Write a segment of code that uses conditionals to print out the messages \"Gold\", \"Silver\" or \"Bronze\" according to the value of the variable `x` which represents the standing of an athlete at an Olympics event."
   ]
  },
  {
   "cell_type": "code",
   "execution_count": null,
   "metadata": {
    "slideshow": {
     "slide_type": "slide"
    }
   },
   "outputs": [],
   "source": []
  },
  {
   "cell_type": "markdown",
   "metadata": {},
   "source": [
    "#### What is logically wrong with the following code?\n",
    "\n",
    "```python\n",
    "if grade >= 90:\n",
    "    print(\"You got an A!\")\n",
    "if grade >= 80:\n",
    "    print(\"You got a B!\")\n",
    "if grade >= 70:\n",
    "    print(\"You got a C!\")\n",
    "if grade >= 60:\n",
    "    print(\"You got a D!\")\n",
    "if grade >= 50:\n",
    "    print(\"You got an F!\")\n",
    "```\n",
    "    \n"
   ]
  },
  {
   "cell_type": "markdown",
   "metadata": {},
   "source": []
  },
  {
   "cell_type": "markdown",
   "metadata": {},
   "source": [
    "```python\n",
    "if  i < j:\n",
    "    if j < k:\n",
    "        i = j \n",
    "    else:\n",
    "        j = k \n",
    "else:\n",
    "    if j > k: \n",
    "        j = i\n",
    "    else: \n",
    "        i = k\n",
    "print(\"i =\", i, \" j =\", j, \" k =\", k)\n",
    "```\n",
    "\n",
    "What will the code print if the variables i, j, and k have the following values?\n",
    "\n",
    "(a) i = 3,j = 5,and k = 7 \n",
    "\n",
    "(b) i = 3,j = 7,and k = 5 \n",
    "\n",
    "(c) i = 5,j = 3,and k = 7 \n"
   ]
  },
  {
   "cell_type": "markdown",
   "metadata": {},
   "source": []
  },
  {
   "cell_type": "markdown",
   "metadata": {},
   "source": [
    "#### What is the value of `y` in the following?\n",
    "1)\n",
    "```python\n",
    "x = 30\n",
    "y = \"a\" if x > 15 else \"b\"\n",
    "```\n",
    "2)\n",
    "```python\n",
    "x = 10\n",
    "y = \"a\" if x > 15 else \"b\" if x >=11 else \"c\"\n",
    "```\n"
   ]
  },
  {
   "cell_type": "markdown",
   "metadata": {},
   "source": []
  }
 ],
 "metadata": {
  "kernelspec": {
   "display_name": "Python [conda root]",
   "language": "python",
   "name": "conda-root-py"
  },
  "language_info": {
   "codemirror_mode": {
    "name": "ipython",
    "version": 3
   },
   "file_extension": ".py",
   "mimetype": "text/x-python",
   "name": "python",
   "nbconvert_exporter": "python",
   "pygments_lexer": "ipython3",
   "version": "3.6.4"
  }
 },
 "nbformat": 4,
 "nbformat_minor": 1
}
